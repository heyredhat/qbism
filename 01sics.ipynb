{
 "cells": [
  {
   "cell_type": "code",
   "execution_count": null,
   "metadata": {},
   "outputs": [],
   "source": [
    "#hide\n",
    "%load_ext autoreload\n",
    "%autoreload 2"
   ]
  },
  {
   "cell_type": "code",
   "execution_count": null,
   "metadata": {},
   "outputs": [],
   "source": [
    "# default_exp sics"
   ]
  },
  {
   "cell_type": "markdown",
   "metadata": {},
   "source": [
    "# SIC-POVM's"
   ]
  },
  {
   "cell_type": "code",
   "execution_count": null,
   "metadata": {},
   "outputs": [],
   "source": [
    "#export\n",
    "import numpy as np\n",
    "import qutip as qt\n",
    "from itertools import product\n",
    "import pkg_resources\n",
    "\n",
    "from qbism.weyl_heisenberg import *"
   ]
  },
  {
   "cell_type": "code",
   "execution_count": null,
   "metadata": {},
   "outputs": [],
   "source": [
    "#export \n",
    "def load_fiducial(d):\n",
    "    r\"\"\"\n",
    "    Loads a Weyl-Heisenberg covariant SIC-POVM fiducial state of dimension $d$ from the repository provided here: http://www.physics.umb.edu/Research/QBism/solutions.html.\n",
    "    \"\"\"\n",
    "    f = pkg_resources.resource_stream(__name__, \"sic_povms/d%d.txt\" % d)\n",
    "    fiducial = []\n",
    "    for line in f:\n",
    "        if line.strip() != \"\":\n",
    "            re, im = [float(v) for v in line.split()]\n",
    "            fiducial.append(re + 1j*im)\n",
    "    return qt.Qobj(np.array(fiducial)).unit()"
   ]
  },
  {
   "cell_type": "code",
   "execution_count": null,
   "metadata": {},
   "outputs": [],
   "source": [
    "#export\n",
    "def sic_states(d):\n",
    "    r\"\"\"\n",
    "    Returns the $d^2$ states constructed by applying the Weyl-Heisenberg displacement operators to the SIC-POVM fiducial state of dimension $d$.\n",
    "    \"\"\"\n",
    "    return weyl_heisenberg_states(load_fiducial(d))"
   ]
  },
  {
   "cell_type": "code",
   "execution_count": null,
   "metadata": {},
   "outputs": [],
   "source": [
    "#export\n",
    "def sic_povm(d):\n",
    "    r\"\"\"\n",
    "    Returns a SIC-POVM of dimension $d$.\n",
    "    \"\"\"\n",
    "    return weyl_heisenberg_povm(load_fiducial(d))"
   ]
  },
  {
   "cell_type": "code",
   "execution_count": null,
   "metadata": {},
   "outputs": [],
   "source": [
    "#export \n",
    "def sic_gram(d):\n",
    "    r\"\"\"\n",
    "    The Gram matrix is the matrix of inner products: $G_{i,j} = \\langle v_{i} \\mid v_{j} \\nangle$. For a SIC, this matrix should consist of 1's along the diagonal, and all other entries $\\frac{1}{d}$:\n",
    "\n",
    "    $$ \\begin{pmatrix} 1 & \\frac{1}{d} & \\frac{1}{d} & \\dots \\\\\n",
    "                       \\frac{1}{d} & 1 & \\frac{1}{d} & \\dots \\\\\n",
    "                       \\frac{1}{d} & \\frac{1}{d} & 1 & \\dots \\\\\n",
    "                       \\vdots & \\vdots & \\vdots & \\ddots \\end{pmatrix}$$\n",
    "\n",
    "    \"\"\"\n",
    "    return np.array([[1 if i == j else 1/(d+1) for j in range(d**2)] for i in range(d**2)])"
   ]
  },
  {
   "cell_type": "code",
   "execution_count": null,
   "metadata": {},
   "outputs": [],
   "source": [
    "#export\n",
    "def hoggar_fiducial():\n",
    "    r\"\"\"\n",
    "    Returns a fiducial state for the exceptional SIC in dimension $8$, the Hoggar SIC.\n",
    "\n",
    "    Unnormalized: $\\begin{pmatrix} -1 + 2i \\\\ 1 \\\\ 1 \\\\ 1 \\\\ 1 \\\\ 1 \\\\ 1 \\\\ 1 \\end{pmatrix}$.\n",
    "    \"\"\"\n",
    "    fiducial = qt.Qobj(np.array([-1 + 2j, 1, 1, 1, 1, 1, 1, 1])).unit()\n",
    "    fiducial.dims = [[2,2,2],[1,1,1]]\n",
    "    return fiducial"
   ]
  },
  {
   "cell_type": "code",
   "execution_count": null,
   "metadata": {},
   "outputs": [],
   "source": [
    "#export\n",
    "def hoggar_indices():\n",
    "    r\"\"\"\n",
    "    Returns a list with entries $(a, b, c, d, e, f)$ for $a, b, c, d, e, f \\in [0, 1]$.\n",
    "    \"\"\"\n",
    "    return list(product([0,1], repeat=6))"
   ]
  },
  {
   "cell_type": "code",
   "execution_count": null,
   "metadata": {},
   "outputs": [],
   "source": [
    "#export\n",
    "def hoggar_povm():\n",
    "    r\"\"\"\n",
    "    Constructs the Hoggar POVM, which is covariant under the tensor product of three copies of the $d=2$ Weyl-Heisenberg group. In other words, we apply the 64 displacement operators:\n",
    "\n",
    "    $$ \\hat{D}_{a, b, c, d, e, f} = X^{a}Z^{b} \\otimes X^{c}Z^{d} \\otimes X^{e}Z^{f} $$\n",
    "\n",
    "    To the Hoggar fiducial state, form the corresponding projectors, and rescale by $\\frac{1}{8}$.\n",
    "    \"\"\"\n",
    "    Z, X = clock(2), shift(2)\n",
    "    indices = hoggar_indices()\n",
    "    D = dict([(I, qt.tensor(X**I[0]*Z**I[1],\\\n",
    "                            X**I[2]*Z**I[3],\\\n",
    "                            X**I[4]*Z**I[5])) for I in indices])\n",
    "    fiducial = hoggar_fiducial()\n",
    "    hoggar_states = [D[I]*fiducial for I in indices]\n",
    "    return [(1/8)*state*state.dag() for state in hoggar_states]"
   ]
  },
  {
   "cell_type": "markdown",
   "metadata": {},
   "source": [
    "Let's make sure the Hoggar POVM is really a POVM:"
   ]
  },
  {
   "cell_type": "code",
   "execution_count": null,
   "metadata": {},
   "outputs": [],
   "source": [
    "ID = qt.identity(8)\n",
    "ID.dims = [[2,2,2],[2,2,2]]\n",
    "assert np.allclose(sum(hoggar_povm()), ID)"
   ]
  }
 ],
 "metadata": {
  "kernelspec": {
   "display_name": "Python 3.8.5 64-bit",
   "metadata": {
    "interpreter": {
     "hash": "52c099a0a3412f0a20a5fdfbf7def4ee7cb37481ebbf10c1a57384a9bde24e72"
    }
   },
   "name": "python3"
  }
 },
 "nbformat": 4,
 "nbformat_minor": 2
}
