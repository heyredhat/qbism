{
 "cells": [
  {
   "cell_type": "code",
   "execution_count": null,
   "metadata": {},
   "outputs": [],
   "source": [
    "#hide\n",
    "%load_ext autoreload\n",
    "%autoreload 2"
   ]
  },
  {
   "cell_type": "code",
   "execution_count": null,
   "metadata": {},
   "outputs": [],
   "source": [
    "# default_exp povm"
   ]
  },
  {
   "cell_type": "markdown",
   "metadata": {},
   "source": [
    "# POVM's"
   ]
  },
  {
   "cell_type": "code",
   "execution_count": null,
   "metadata": {},
   "outputs": [],
   "source": [
    "#export\n",
    "import numpy as np\n",
    "import qutip as qt\n",
    "from functools import reduce\n",
    "\n",
    "from qbism.weyl_heisenberg import *\n",
    "from qbism.sics import *\n",
    "from qbism.kraus import *"
   ]
  },
  {
   "cell_type": "code",
   "execution_count": null,
   "metadata": {},
   "outputs": [],
   "source": [
    "#export\n",
    "def povm_gram(E):\n",
    "    r\"\"\"\n",
    "    The Gram matrix is the matrix of inner products. Given POVM elements $\\{\\hat{E}\\}$, we form the matrix: \n",
    "\n",
    "    $$ G_{i,j} = tr(\\frac{\\hat{E}_{i}}{tr \\hat{E}_{i}} \\frac{\\hat{E}_{j}}{tr \\hat{E}_{j}})$$\n",
    "    \"\"\"\n",
    "    return np.array([[((a/a.tr())*(b/b.tr())).tr() for b in E] for a in E]).real"
   ]
  },
  {
   "cell_type": "markdown",
   "metadata": {},
   "source": [
    "We can check that a SIC-POVM indeed has the correct Gram matrix:"
   ]
  },
  {
   "cell_type": "code",
   "execution_count": null,
   "metadata": {},
   "outputs": [],
   "source": [
    "d = 4\n",
    "assert np.allclose(povm_gram(sic_povm(d)), sic_gram(d), rtol=0.001)"
   ]
  },
  {
   "cell_type": "markdown",
   "metadata": {},
   "source": [
    "Why not check out the Hoggar POVM too?"
   ]
  },
  {
   "cell_type": "code",
   "execution_count": null,
   "metadata": {},
   "outputs": [],
   "source": [
    "assert np.allclose(povm_gram(hoggar_povm()), sic_gram(8), atol=0.001)"
   ]
  },
  {
   "cell_type": "code",
   "execution_count": null,
   "metadata": {},
   "outputs": [],
   "source": [
    "#export\n",
    "def povm_phi(E):\n",
    "    r\"\"\"\n",
    "    Given POVM elements $\\{\\hat{E}\\}$, we first form the matrix: \n",
    "\n",
    "    $$ \\hat{\\Phi}^{-1}_{i,j} = tr(\\hat{E}_{i} \\frac{\\hat{E}_{j}}{tr \\hat{E}_{j}}) $$\n",
    "\n",
    "    And then take its inverse to construct $\\hat{\\Phi}$, the magical quantum transition matrix.\n",
    "    \"\"\"\n",
    "    phi_inv = np.array([[(a*b/b.tr()).tr() for b in E] for a in E]).real\n",
    "    return np.linalg.inv(phi_inv)"
   ]
  },
  {
   "cell_type": "markdown",
   "metadata": {},
   "source": []
  },
  {
   "cell_type": "markdown",
   "metadata": {},
   "source": [
    "$$ \\left\\lVert \\hat{I} - \\hat{\\Phi} \\right\\rVert = \\sqrt{tr(\\hat{I}-\\hat{\\Phi})(\\hat{I}-\\hat{\\Phi})}$$"
   ]
  },
  {
   "cell_type": "code",
   "execution_count": null,
   "metadata": {},
   "outputs": [],
   "source": [
    "#export\n",
    "def quantumness(povm, phi=None):\n",
    "    r\"\"\"\n",
    "    A measure of the \"quantumness\" of a POVM:\n",
    "\n",
    "    $$ \\left\\lVert \\hat{I} - \\hat{\\Phi} \\right\\rVert = \\sqrt{tr(\\hat{I}-\\hat{\\Phi})(\\hat{I}-\\hat{\\Phi})} $$\n",
    "\n",
    "    In other words, the Frobenius distance (2-norm of the vector of singular values) between the magical quantum coherent matrix $\\hat{\\Phi}$ (aka the \"Born matrix\") and the identity. \n",
    "\n",
    "    The idea is that the difference between \"classical\" and \"quantum\" probabilities amounts to whether or not you stick $\\hat{\\Phi}$ in between your conditional probability matrix and your vector of probabilities. In the case of complex vector spaces, it's been [proven](https://arxiv.org/abs/quant-ph/0310075) than SIC-POVM's minimize this distance under any unitarily invariant norm, such as the Frobenius norm. In other words, SIC-POVM's minimize the quantum deformation of the law of total probability.\n",
    "    \"\"\"\n",
    "    phi = phi if type(phi) != type(None) else povm_phi(povm)\n",
    "    return np.linalg.norm(np.eye(phi.shape[0])-phi)"
   ]
  },
  {
   "cell_type": "code",
   "execution_count": null,
   "metadata": {},
   "outputs": [],
   "source": [
    "#export\n",
    "def dm_probs(rho, E):\n",
    "    r\"\"\"\n",
    "    Given a density matrix $\\rho$, expands it in the basis provided by POVM elements $\\{\\hat{E}\\}$, giving a probability vector $\\vec{p}$.\n",
    "    \n",
    "    $$ p_{i} = tr(\\hat{E}_{i}\\rho) $$\n",
    "    \"\"\"\n",
    "    return np.array([(e*rho).tr() for e in E]).real"
   ]
  },
  {
   "cell_type": "code",
   "execution_count": null,
   "metadata": {},
   "outputs": [],
   "source": [
    "#export\n",
    "def probs_dm(p, E, phi=None):\n",
    "    r\"\"\"\n",
    "    Given a probability vector $\\vec{p}$ and a POVM $\\{\\hat{E}\\}$, recovers the density matrix $\\rho$. If it's not provided, we first construct $\\hat{\\Phi}$, the magical quantum coherence matrix, and then form the vector of quasiprobabilities $\\vec{q} = \\hat{\\Phi}\\vec{p}$. Then:\n",
    "\n",
    "    $$ \\rho = \\sum_{i} q_{i}\\frac{\\hat{E_{i}}}{tr E_{i}}$$\n",
    "    \"\"\"\n",
    "    phi = phi if type(phi) != type(None) else povm_phi(E)\n",
    "    return sum([c*E[i]/E[i].tr() for i, c in enumerate(phi @ p)])"
   ]
  },
  {
   "cell_type": "markdown",
   "metadata": {},
   "source": [
    "Let's try it with a SIC-POVM:"
   ]
  },
  {
   "cell_type": "code",
   "execution_count": null,
   "metadata": {},
   "outputs": [],
   "source": [
    "d = 4\n",
    "povm = sic_povm(d)\n",
    "rho = qt.rand_dm(d)\n",
    "p = dm_probs(rho, povm)\n",
    "assert np.isclose(sum(p), 1)\n",
    "assert np.allclose(rho, probs_dm(p, povm))"
   ]
  },
  {
   "cell_type": "markdown",
   "metadata": {},
   "source": [
    "A rank-1 Weyl-Heisenberg POVM:"
   ]
  },
  {
   "cell_type": "code",
   "execution_count": null,
   "metadata": {},
   "outputs": [],
   "source": [
    "d = 4\n",
    "povm = weyl_heisenberg_povm(qt.rand_ket(d))\n",
    "rho = qt.rand_dm(d)\n",
    "p = dm_probs(rho, povm)\n",
    "assert np.isclose(sum(p), 1)\n",
    "assert np.allclose(rho, probs_dm(p, povm))"
   ]
  },
  {
   "cell_type": "markdown",
   "metadata": {},
   "source": [
    "And a general Weyl-Heisenberg POVM:"
   ]
  },
  {
   "cell_type": "code",
   "execution_count": null,
   "metadata": {},
   "outputs": [],
   "source": [
    "d = 4\n",
    "povm = weyl_heisenberg_povm(qt.rand_dm(d))\n",
    "rho = qt.rand_dm(d)\n",
    "p = dm_probs(rho, povm)\n",
    "assert np.isclose(sum(p), 1)\n",
    "assert np.allclose(rho, probs_dm(p, povm))"
   ]
  },
  {
   "cell_type": "code",
   "execution_count": null,
   "metadata": {},
   "outputs": [],
   "source": [
    "#export \n",
    "def conditional_probs(A, B):\n",
    "    r\"\"\"\n",
    "    Given two POVM's $\\{\\hat{A}\\}$ and $\\{\\hat{B}\\}$ (or PVM's), constructs the matrix of conditional probabilities $r(j|i)$ for outcome $A_{j}$ given outcome $B_{i}$:\n",
    "\n",
    "    $$\\hat{R}_{j,i} = tr(\\hat{A}_{j}\\frac{\\hat{B}_{i}}{tr \\hat{B}_{i}})$$\n",
    "    \"\"\"\n",
    "    return np.array([[((A[j]*B[i]/B[i].tr())).tr() for i in range(len(B))] for j in range(len(A))]).real"
   ]
  },
  {
   "cell_type": "markdown",
   "metadata": {},
   "source": [
    "We can use the conditional probability matrix to calculate the probabilities of a PVM (Von Neumann) measurement after a SIC-POVM measurement whose outcome we're ignorant of. \n",
    "\n",
    "After the initial POVM measurement:\n",
    "\n",
    "$$ \\rho^{\\prime} = \\sum_{i} p_{i}\\frac{\\hat{E}_{i}}{tr \\hat{E}_{i}} $$ \n",
    "\n",
    "Where $p_{i}$ are the probabilities $\\vec{p}$ with respect to the POVM, and $\\frac{\\hat{E}_{i}}{tr \\hat{E}_{i}}$ are the outcome states. We can then get the probabilities for the later PVM via $tr (\\Pi_{j}\\rho^{\\prime})$. This should be the same as $\\hat{R}\\vec{p}$."
   ]
  },
  {
   "cell_type": "code",
   "execution_count": null,
   "metadata": {},
   "outputs": [],
   "source": [
    "d = 3\n",
    "povm = sic_povm(d)\n",
    "rho = qt.rand_dm(d)\n",
    "p = dm_probs(rho, povm)\n",
    "\n",
    "post_povm_rho = sum([prob*povm[i]/povm[i].tr() for i, prob in enumerate(p)])\n",
    "\n",
    "H = qt.rand_herm(d)\n",
    "pvm = [v*v.dag() for v in H.eigenstates()[1]]\n",
    "R = conditional_probs(pvm, povm)\n",
    "\n",
    "assert np.allclose(dm_probs(post_povm_rho, pvm), R @ p)"
   ]
  },
  {
   "cell_type": "markdown",
   "metadata": {},
   "source": [
    "Let's try it with a rank-1 Weyl-Heisenberg POVM:"
   ]
  },
  {
   "cell_type": "code",
   "execution_count": null,
   "metadata": {},
   "outputs": [],
   "source": [
    "d = 3\n",
    "phi = povm_phi(povm)\n",
    "rho = qt.rand_dm(d)\n",
    "p = dm_probs(rho, povm)\n",
    "\n",
    "post_povm_rho = sum([prob*povm[i]/povm[i].tr() for i, prob in enumerate(p)])\n",
    "\n",
    "H = qt.rand_herm(d)\n",
    "pvm = [v*v.dag() for v in H.eigenstates()[1]]\n",
    "R = conditional_probs(pvm, povm)\n",
    "\n",
    "assert np.allclose(dm_probs(post_povm_rho, pvm), R @ p)"
   ]
  },
  {
   "cell_type": "markdown",
   "metadata": {},
   "source": [
    "And a general Weyl-Heisenberg POVM:"
   ]
  },
  {
   "cell_type": "code",
   "execution_count": null,
   "metadata": {},
   "outputs": [],
   "source": [
    "d = 3\n",
    "povm = weyl_heisenberg_povm(qt.rand_dm(d))\n",
    "rho = qt.rand_dm(d)\n",
    "p = dm_probs(rho, povm)\n",
    "\n",
    "post_povm_rho = sum([prob*povm[i]/povm[i].tr() for i, prob in enumerate(p)])\n",
    "\n",
    "H = qt.rand_herm(d)\n",
    "pvm = [v*v.dag() for v in H.eigenstates()[1]]\n",
    "R = conditional_probs(pvm, povm)\n",
    "\n",
    "assert np.allclose(dm_probs(post_povm_rho, pvm), R @ p)"
   ]
  },
  {
   "cell_type": "markdown",
   "metadata": {},
   "source": [
    "And if the second measurement is a POVM:"
   ]
  },
  {
   "cell_type": "code",
   "execution_count": null,
   "metadata": {},
   "outputs": [],
   "source": [
    "d = 3\n",
    "povm = sic_povm(d)\n",
    "rho = qt.rand_dm(d)\n",
    "p = dm_probs(rho, povm)\n",
    "\n",
    "post_povm_rho = sum([prob*povm[i]/povm[i].tr() for i, prob in enumerate(p)])\n",
    "\n",
    "povm2 = weyl_heisenberg_povm(qt.rand_dm(d))\n",
    "R = conditional_probs(povm2, povm)\n",
    "\n",
    "assert np.allclose(dm_probs(post_povm_rho, povm2), R @ p)"
   ]
  },
  {
   "cell_type": "markdown",
   "metadata": {},
   "source": [
    "On the other hand, we can get the quantum probabilities in the case that we go directly to the second measurement by sticking the magical quantum coherence matrix $\\hat{\\Phi}$ in the middle: \n",
    "\n",
    "$$ \\vec{q} = \\hat{R} \\hat{\\Phi} \\vec{p} $$\n",
    "\n",
    "This should be the same as $tr(\\hat{F}_{i} \\rho)$, where $\\{F\\}$ is the second POVM or PVM."
   ]
  },
  {
   "cell_type": "markdown",
   "metadata": {},
   "source": [
    "In the case of a PVM:"
   ]
  },
  {
   "cell_type": "code",
   "execution_count": null,
   "metadata": {},
   "outputs": [],
   "source": [
    "d = 3\n",
    "povm = sic_povm(d)\n",
    "phi = povm_phi(povm)\n",
    "rho = qt.rand_dm(d)\n",
    "p = dm_probs(rho, povm)\n",
    "\n",
    "H = qt.rand_herm(d)\n",
    "pvm = [v*v.dag() for v in H.eigenstates()[1]]\n",
    "R = conditional_probs(pvm, povm)\n",
    "\n",
    "assert np.allclose(dm_probs(rho, pvm), R @ phi @ p)"
   ]
  },
  {
   "cell_type": "markdown",
   "metadata": {},
   "source": [
    "In the case of a POVM:"
   ]
  },
  {
   "cell_type": "code",
   "execution_count": null,
   "metadata": {},
   "outputs": [],
   "source": [
    "d = 3\n",
    "povm = sic_povm(d)\n",
    "phi = povm_phi(povm)\n",
    "rho = qt.rand_dm(d)\n",
    "p = dm_probs(rho, povm)\n",
    "\n",
    "povm2 = weyl_heisenberg_povm(qt.rand_dm(d))\n",
    "R = conditional_probs(povm2, povm)\n",
    "\n",
    "assert np.allclose(dm_probs(rho, povm2), R @ phi @ p)"
   ]
  },
  {
   "cell_type": "markdown",
   "metadata": {},
   "source": [
    "This also give us a way of representing quantum time evolution. \n",
    "\n",
    "The usual way of obtaining the evolved probabilities is simply by evolving $\\rho$ via some unitary $\\hat{U}\\rho\\hat{U}^{\\dagger}$ and the finding the probabilities with respect to the original POVM. Alternatively, we could leave $\\rho$ alone, and get the same answer by finding the probabilities with respect to the *time reverse evolved* POVM, in other words, one whose elements have been evolved $\\hat{U}^{\\dagger}\\hat{E}\\hat{U}$.\n",
    "\n",
    "In terms of the POVM formalism, we form the conditional probability matrix $R_{j,i}$ for outcome $j$ of the evolved POVM given outcome $i$ of the original POVM, and take its transpose. Then the evolved probabilities are: $\\hat{R}^{T} \\hat{\\Phi} \\vec{p}$. The same effect could be obtained by working with the conditional probabilities for the reversed evolved POVM given the original POVM, or the conditional probabilities for the original POVM given the evolved POVM."
   ]
  },
  {
   "cell_type": "code",
   "execution_count": null,
   "metadata": {},
   "outputs": [],
   "source": [
    "d = 3\n",
    "povm = weyl_heisenberg_povm(qt.rand_dm(d))\n",
    "phi = povm_phi(povm)\n",
    "rho = qt.rand_dm(d)\n",
    "p = dm_probs(rho, povm)\n",
    "\n",
    "U = qt.rand_unitary(d)\n",
    "evolved_rho = U*rho*U.dag()\n",
    "evolved_povm = [U*e*U.dag() for e in povm]\n",
    "reverse_evolved_povm = [U.dag()*e*U for e in povm]\n",
    "evolved_povm_given_povm = conditional_probs(evolved_povm, povm)\n",
    "\n",
    "assert np.allclose(dm_probs(evolved_rho, povm), dm_probs(rho, reverse_evolved_povm))\n",
    "assert np.allclose(dm_probs(evolved_rho, povm), evolved_povm_given_povm.T @ phi @ p)\n",
    "assert np.allclose(dm_probs(evolved_rho, povm), conditional_probs(reverse_evolved_povm, povm) @ phi @ p)\n",
    "assert np.allclose(dm_probs(evolved_rho, povm), conditional_probs(povm, evolved_povm) @ phi @ p)"
   ]
  },
  {
   "cell_type": "markdown",
   "metadata": {},
   "source": [
    "Indeed, it's worth observing in this connection that:\n",
    "\n",
    "$$ \\hat{R}^{T} \\hat{\\Phi} \\hat{R} \\hat{\\Phi} = \\hat{I}_{d^2}$$\n",
    "\n",
    "And $\\hat{\\Phi}$ will be the same for both the original POVM and the evolved POVM since unitary evolution preserves the inner product."
   ]
  },
  {
   "cell_type": "code",
   "execution_count": null,
   "metadata": {},
   "outputs": [],
   "source": [
    "assert np.allclose(evolved_povm_given_povm.T @ phi @ evolved_povm_given_povm @ phi, qt.identity(d**2))"
   ]
  },
  {
   "cell_type": "markdown",
   "metadata": {},
   "source": [
    "Interestingly, in the case of a SIC-POVM, $\\hat{R}^{T} \\hat{\\Phi}$ and $\\hat{R} \\hat{\\Phi}$, which are inverses, will be each other's transpose, implying that they are orthogonal matrices.\n"
   ]
  },
  {
   "cell_type": "code",
   "execution_count": null,
   "metadata": {},
   "outputs": [],
   "source": [
    "d = 2\n",
    "povm = sic_povm(d)\n",
    "phi = povm_phi(povm)\n",
    "\n",
    "U = qt.rand_unitary(d)\n",
    "evolved_povm = [U*e*U.dag() for e in povm]\n",
    "evolved_povm_given_povm = conditional_probs(evolved_povm, povm)\n",
    "\n",
    "A = evolved_povm_given_povm.T @ phi\n",
    "Ainv = evolved_povm_given_povm @ phi\n",
    "assert np.allclose(A, Ainv.T)"
   ]
  },
  {
   "cell_type": "markdown",
   "metadata": {},
   "source": [
    "Finally, note how operators compose:"
   ]
  },
  {
   "cell_type": "code",
   "execution_count": null,
   "metadata": {},
   "outputs": [],
   "source": [
    "d = 2\n",
    "rho = qt.rand_dm(2)\n",
    "\n",
    "povm = sic_povm(d)\n",
    "phi = povm_phi(povm)\n",
    "\n",
    "U = qt.rand_unitary(d)\n",
    "\n",
    "rho_evolved = U*U*rho*U.dag()*U.dag()\n",
    "\n",
    "evolved_povm = [U*e*U.dag() for e in povm]\n",
    "evolved_povm_given_povm = conditional_probs(evolved_povm, povm)\n",
    "\n",
    "assert np.allclose(dm_probs(rho_evolved, povm), evolved_povm_given_povm.T @ phi @ evolved_povm_given_povm.T @ phi @ dm_probs(rho, povm))"
   ]
  },
  {
   "cell_type": "code",
   "execution_count": null,
   "metadata": {},
   "outputs": [],
   "source": [
    "#export\n",
    "def quantum_inner_product(r, s, phi=None):\n",
    "    r\"\"\"\n",
    "    The quantum inner product expressed in terms of probability vectors. If $\\hat{\\Phi}$ is not provided,\n",
    "    we use the SIC-POVM $\\hat{\\Phi}$ of the appropriate dimensionality.\n",
    "\n",
    "    $$ tr(\\sigma\\rho) = d \\vec{s} \\hat{\\Phi} \\vec{r}$$\n",
    "\n",
    "    Where $\\vec{r}$ is the probability vector for $\\rho$ and $\\vec{s}$ is the probability vector for $\\sigma$ with respect to the same POVM.\n",
    "    \"\"\"\n",
    "    d = int(np.sqrt(len(p)))\n",
    "    phi = phi if type(phi) != type(None) else sic_gram(d)\n",
    "    return d*(s @ phi @ p).real\n"
   ]
  },
  {
   "cell_type": "code",
   "execution_count": null,
   "metadata": {},
   "outputs": [],
   "source": [
    "d = 4\n",
    "povm = weyl_heisenberg_povm(qt.rand_dm(d))\n",
    "phi = povm_phi(povm)\n",
    "\n",
    "rho = qt.rand_dm(d)\n",
    "sigma = qt.rand_dm(d)\n",
    "\n",
    "p = dm_probs(rho, povm)\n",
    "s = dm_probs(sigma, povm)\n",
    "\n",
    "assert np.isclose((rho*sigma).tr(), quantum_inner_product(p, s, phi=phi))"
   ]
  },
  {
   "cell_type": "code",
   "execution_count": null,
   "metadata": {},
   "outputs": [],
   "source": [
    "#export \n",
    "def tensor_povm(*povms):\n",
    "    r\"\"\"\n",
    "    Forms the tensor product of a list of POVM's, which is itself a POVM.\n",
    "    \"\"\"\n",
    "    def tensor_two(A, B):\n",
    "        return [qt.tensor(b, a) for b in B for a in A]\n",
    "    return reduce(lambda A, B: tensor_two(A, B), povms)"
   ]
  },
  {
   "cell_type": "code",
   "execution_count": null,
   "metadata": {},
   "outputs": [],
   "source": [
    "#export\n",
    "def upgrade_povm(E, i, dims):\n",
    "    r\"\"\"\n",
    "    Upgrades a POVM to act on the $i^{th}$ subspace of a tensor product space whose subspaces are given by a list `dims`. If `dims` is an \n",
    "    integer, we assume it refers to the number of subspaces all of the same dimensionality as the POVM.\n",
    "    \"\"\"\n",
    "    if type(dims) == int:\n",
    "        dims = [E[0].shape[0]]*dims\n",
    "    return [qt.tensor(*[e if i == j else qt.identity(d) for j, d in enumerate(dims)]) for e in E]"
   ]
  },
  {
   "cell_type": "markdown",
   "metadata": {},
   "source": [
    "For example, we can get the probabilities for a partial state by upgrading a POVM of the right dimensionality on that subsystem. "
   ]
  },
  {
   "cell_type": "code",
   "execution_count": null,
   "metadata": {},
   "outputs": [],
   "source": [
    "entangled = qt.rand_dm(4)\n",
    "entangled.dims = [[2,2],[2,2]]\n",
    "povm2 = sic_povm(2)\n",
    "\n",
    "assert np.allclose(dm_probs(entangled.ptrace(0), povm2), dm_probs(entangled, upgrade_povm(povm2, 0, 2)))\n",
    "assert np.allclose(dm_probs(entangled.ptrace(1), povm2), dm_probs(entangled, upgrade_povm(povm2, 1, 2)))"
   ]
  },
  {
   "cell_type": "code",
   "execution_count": null,
   "metadata": {},
   "outputs": [],
   "source": [
    "#export\n",
    "def apply_dims(E, dims):\n",
    "    r\"\"\"\n",
    "    Helper function which sets the tensor dimensions of each POVM element to `dims`. \n",
    "    \"\"\"\n",
    "    for e in E:\n",
    "        e.dims = [dims, dims]\n",
    "    return E"
   ]
  },
  {
   "cell_type": "code",
   "execution_count": null,
   "metadata": {},
   "outputs": [],
   "source": [
    "#export\n",
    "from scipy.linalg import sqrtm\n",
    "\n",
    "def implement_povm(E):\n",
    "    r\"\"\"\n",
    "    Returns a unitary operator $\\hat{U}$ implementing a given POVM on $H_{d} \\otimes H_{n}$, where $d$ is the dimensionality\n",
    "    of the original system and $n$ is the dimensionality of the auxilliary system and which is the same as the number of POVM elements.\n",
    "    \"\"\"\n",
    "    n, d = len(E), E[0].shape[0]\n",
    "    aux_projectors = [qt.tensor(qt.identity(d), qt.basis(n, i)*qt.basis(n, i).dag()) for i in range(n)]\n",
    "    V = sum([qt.tensor(E[i].sqrtm(), qt.basis(n, i)) for i in range(n)])\n",
    "    povm_elements = [V.dag()*aux_projectors[i]*V for i in range(n)]\n",
    "    assert np.all([np.allclose(E[i], povm_elements[i]) for i in range(n)])\n",
    "    Q, R = np.linalg.qr(V, mode=\"complete\")\n",
    "    for i in range(d):\n",
    "        Q.T[[i,n*i]] = Q.T[[n*i,i]]\n",
    "        Q[:,n*i] = V[:,i].T\n",
    "    U = qt.Qobj(Q)\n",
    "    U.dims = [[d, n],[d, n]]\n",
    "    assert np.allclose(V, U*qt.tensor(qt.identity(d), qt.basis(n, 0)))\n",
    "    return U"
   ]
  },
  {
   "cell_type": "code",
   "execution_count": null,
   "metadata": {},
   "outputs": [],
   "source": [
    "d = 2\n",
    "rho = qt.rand_dm(d)\n",
    "povm = sic_povm(d)\n",
    "U = implement_povm(povm)\n",
    "state = U*qt.tensor(rho, qt.basis(d**2,0)*qt.basis(d**2,0).dag())*U.dag()\n",
    "projectors = [qt.tensor(qt.identity(d), qt.basis(d**2, i)*qt.basis(d**2,i).dag()) for i in range(d**2)]\n",
    "\n",
    "assert np.allclose(dm_probs(rho, povm), np.array([(proj*state).tr() for proj in projectors]))"
   ]
  },
  {
   "cell_type": "code",
   "execution_count": null,
   "metadata": {},
   "outputs": [],
   "source": [
    "#export\n",
    "def discriminator_povm(a, b):\n",
    "    r\"\"\"\n",
    "    Returns a non informationally complete POVM which has the special property\n",
    "    of distinguishing between two arbitrary states $\\mid a \\rangle$ and $\\mid b\\rangle$, which are not necessarily orthogonal (which is impossible with a standard PVM).\n",
    "\n",
    "    It has three elements:\n",
    "\n",
    "    $$ \\hat{F}_{a} = \\frac{1}{1+\\mid\\langle a \\mid b \\rangle\\mid}(\\hat{I} - \\mid b \\rangle \\langle b \\mid) $$\n",
    "    $$ \\hat{F}_{b} = \\frac{1}{1+\\mid\\langle a \\mid b \\rangle\\mid}(\\hat{I} - \\mid a \\rangle \\langle a \\mid) $$\n",
    "    $$ \\hat{F}_{?} = \\hat{I} - \\hat{F}_{a} - \\hat{F}_{b} $$\n",
    "\n",
    "    The first tests for \"not B\", the second tests for \"not A\", and the third outcome represents an inconclusive result.\n",
    "    \"\"\"\n",
    "    d = a.shape[0]\n",
    "    p = abs(a.overlap(b))\n",
    "    Fa = (1/(1+p))*(qt.identity(d) - b*b.dag())\n",
    "    Fb = (1/(1+p))*(qt.identity(d) - a*a.dag())\n",
    "    Fq = qt.identity(d) - Fa - Fb\n",
    "    return [Fa, Fb, Fq]"
   ]
  },
  {
   "cell_type": "markdown",
   "metadata": {},
   "source": [
    "We can see that the \"discriminator POVM\" is indeed a POVM, and that if the initial state is $\\mid a \\rangle \\langle a \\mid$, then the probability of $\\hat{F}_{b}$ is $0$; and if the initial state is $\\mid b \\rangle \\langle b \\mid$, then the probability of ${F}_{a}$ is $0$. "
   ]
  },
  {
   "cell_type": "code",
   "execution_count": null,
   "metadata": {},
   "outputs": [
    {
     "name": "stdout",
     "output_type": "stream",
     "text": [
      "[0.08453251 0.         0.91546749]\n[0.         0.08453251 0.91546749]\n[0.02206577 0.02206577 0.95586847]\n"
     ]
    }
   ],
   "source": [
    "d = 2\n",
    "a, b = qt.rand_ket(d), qt.rand_ket(d)\n",
    "dpovm = discriminator_povm(a, b)\n",
    "assert np.allclose(sum(dpovm), qt.identity(d))\n",
    "\n",
    "arho = a*a.dag()\n",
    "brho = b*b.dag()\n",
    "print(dm_probs(arho, dpovm))\n",
    "print(dm_probs(brho, dpovm))\n",
    "print(dm_probs(dpovm[2]/dpovm[2].tr(), dpovm))"
   ]
  }
 ],
 "metadata": {
  "kernelspec": {
   "display_name": "Python 3",
   "language": "python",
   "name": "python3"
  }
 },
 "nbformat": 4,
 "nbformat_minor": 2
}
