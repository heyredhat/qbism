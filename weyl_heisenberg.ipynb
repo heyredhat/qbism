{
 "cells": [
  {
   "cell_type": "code",
   "execution_count": null,
   "metadata": {},
   "outputs": [],
   "source": [
    "# default_exp weyl_heisenberg"
   ]
  },
  {
   "cell_type": "markdown",
   "metadata": {},
   "source": [
    "# The Weyl-Heisenberg Group\n",
    "\n",
    "> API details."
   ]
  },
  {
   "cell_type": "code",
   "execution_count": null,
   "metadata": {},
   "outputs": [],
   "source": [
    "#hide\n",
    "import numpy as np\n",
    "import qutip as qt"
   ]
  },
  {
   "cell_type": "code",
   "execution_count": null,
   "metadata": {},
   "outputs": [],
   "source": [
    "#export \n",
    "def clock(d):\n",
    "    \"\"\"\n",
    "    The clock operator for dimension $d$.\n",
    "    \"\"\"\n",
    "    return sum([qt.basis(d, i+1)*qt.basis(d, i).dag()\\\n",
    "                    if i != d-1 else qt.basis(d, 0)*qt.basis(d, i).dag()\\\n",
    "                        for i in range(d) for j in range(d)])/d"
   ]
  },
  {
   "cell_type": "markdown",
   "metadata": {},
   "source": [
    "$\\sum 1$"
   ]
  },
  {
   "cell_type": "code",
   "execution_count": null,
   "metadata": {},
   "outputs": [],
   "source": [
    "#export\n",
    "def shift(d):\n",
    "    w = np.exp(2*np.pi*1j/d)\n",
    "    return qt.Qobj(np.diag([w**i for i in range(d)]))"
   ]
  },
  {
   "cell_type": "code",
   "execution_count": null,
   "metadata": {},
   "outputs": [],
   "source": [
    "#export \n",
    "def displace(d, a, b):\n",
    "    Z, X = clock(d), shift(d)\n",
    "    return (-np.exp(1j*np.pi/d))**(a*b)*X**b*Z**a"
   ]
  },
  {
   "cell_type": "code",
   "execution_count": null,
   "metadata": {},
   "outputs": [],
   "source": [
    "#export\n",
    "def displacement_operators(d):\n",
    "    return dict([((a, b), displace(d, a, b)) for b in range(d) for a in range(d)])"
   ]
  },
  {
   "cell_type": "code",
   "execution_count": null,
   "metadata": {},
   "outputs": [],
   "source": [
    "#export\n",
    "def weyl_heisenberg_states(fiducial):\n",
    "    return [D*fiducial for index, D in displacement_operators(fiducial.shape[0]).items()]"
   ]
  }
 ],
 "metadata": {
  "kernelspec": {
   "display_name": "Python 3.8.5 64-bit ('spheres': conda)",
   "metadata": {
    "interpreter": {
     "hash": "52c099a0a3412f0a20a5fdfbf7def4ee7cb37481ebbf10c1a57384a9bde24e72"
    }
   },
   "name": "python3"
  }
 },
 "nbformat": 4,
 "nbformat_minor": 2
}
