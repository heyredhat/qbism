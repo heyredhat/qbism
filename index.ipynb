{
 "cells": [
  {
   "cell_type": "code",
   "execution_count": null,
   "metadata": {},
   "outputs": [],
   "source": [
    "#hide\n",
    "from qbism import *"
   ]
  },
  {
   "cell_type": "markdown",
   "metadata": {},
   "source": [
    "# Qbism\n",
    "\n",
    "[![PyPI version](https://badge.fury.io/py/qbism.svg)](https://badge.fury.io/py/qbism)\n",
    "\n",
    "> Python tools for the budding quantum bettabilitarian."
   ]
  }
 ],
 "metadata": {
  "kernelspec": {
   "display_name": "Python 3",
   "language": "python",
   "name": "python3"
  }
 },
 "nbformat": 4,
 "nbformat_minor": 2
}
