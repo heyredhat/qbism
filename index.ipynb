{
 "cells": [
  {
   "cell_type": "code",
   "execution_count": null,
   "metadata": {},
   "outputs": [],
   "source": [
    "#hide\n",
    "from qbism import *"
   ]
  },
  {
   "cell_type": "markdown",
   "metadata": {},
   "source": [
    "# Qbism "
   ]
  },
  {
   "cell_type": "markdown",
   "metadata": {},
   "source": [
    "[![PyPI version](https://badge.fury.io/py/qbism.svg)](https://badge.fury.io/py/qbism)\n",
    "\n",
    "> python tools for the budding quantum bettabilitarian"
   ]
  },
  {
   "cell_type": "markdown",
   "metadata": {},
   "source": [
    "## Installation\n",
    "\n",
    "`pip install qbism`\n",
    "\n",
    "Note that `qbism` relies on `qutip`!"
   ]
  },
  {
   "cell_type": "markdown",
   "metadata": {},
   "source": [
    "## Usage\n",
    "\n",
    "Let's start off with a random density matrix:"
   ]
  },
  {
   "cell_type": "code",
   "execution_count": null,
   "metadata": {},
   "outputs": [],
   "source": [
    "from qbism import *\n",
    "import qutip as qt\n",
    "import numpy as np\n",
    "\n",
    "d = 2\n",
    "rho = qt.rand_dm(d)"
   ]
  },
  {
   "cell_type": "markdown",
   "metadata": {},
   "source": [
    "We construct a random Weyl-Heisenberg IC-POVM, and get the magical quantum coherence matrix. We find the probabilities with respect to this POVM."
   ]
  },
  {
   "cell_type": "code",
   "execution_count": null,
   "metadata": {},
   "outputs": [
    {
     "name": "stdout",
     "output_type": "stream",
     "text": [
      "probs: [0.20215649 0.20215649 0.29784351 0.29784351]\n"
     ]
    }
   ],
   "source": [
    "povm = weyl_heisenberg_povm(qt.rand_ket(d))\n",
    "phi = povm_phi(povm)\n",
    "p = dm_probs(rho, povm)\n",
    "print(\"probs: %s\" % p)"
   ]
  },
  {
   "cell_type": "markdown",
   "metadata": {},
   "source": [
    "We can compare the classical probabilities (for a Von Neumann measurement after a POVM measurement whose outcome we are ignorant of) to the the quantum probabilities (in the case where we go directly to the Von Neumann measurement):"
   ]
  },
  {
   "cell_type": "code",
   "execution_count": null,
   "metadata": {},
   "outputs": [
    {
     "name": "stdout",
     "output_type": "stream",
     "text": [
      "classsical probs: [0.55802905 0.44197095]\nquantum probs: [0.65778315 0.34221685]\n"
     ]
    }
   ],
   "source": [
    "H = qt.rand_herm(d)\n",
    "vn = [v*v.dag() for v in H.eigenstates()[1]]\n",
    "\n",
    "classical_probs = conditional_probs(vn, povm) @ p\n",
    "quantum_probs = conditional_probs(vn, povm) @ phi @ p\n",
    "\n",
    "print(\"classsical probs: %s\" % classical_probs)\n",
    "print(\"quantum probs: %s\" % quantum_probs)\n",
    "\n",
    "post_povm_rho = sum([(e*rho).tr()*(e/e.tr()) for e in povm])\n",
    "assert np.allclose(classical_probs, [(v*post_povm_rho).tr() for v in vn])\n",
    "assert np.allclose(quantum_probs, [(v*rho).tr() for v in vn])"
   ]
  },
  {
   "cell_type": "markdown",
   "metadata": {},
   "source": [
    "Now let's get a SIC-POVM and explore time evolution:"
   ]
  },
  {
   "cell_type": "code",
   "execution_count": null,
   "metadata": {},
   "outputs": [
    {
     "name": "stdout",
     "output_type": "stream",
     "text": [
      "time evolved probs: [0.20445193 0.20445193 0.29554807 0.29554807]\n"
     ]
    }
   ],
   "source": [
    "sic = sic_povm(d)\n",
    "sic_phi = povm_phi(sic)\n",
    "sic_p = dm_probs(rho, sic)\n",
    "\n",
    "U = qt.rand_unitary(d)\n",
    "evolved_sic = [U*e*U.dag() for e in sic]\n",
    "R = conditional_probs(evolved_sic, sic).T\n",
    "\n",
    "time_evolved_sic_p = R @ sic_phi @ sic_p\n",
    "print(\"time evolved probs: %s\" % time_evolved_sic_p)\n",
    "assert np.allclose(dm_probs(U*rho*U.dag(), sic), time_evolved_sic_p)"
   ]
  },
  {
   "cell_type": "markdown",
   "metadata": {},
   "source": [
    "We could also use:"
   ]
  },
  {
   "cell_type": "code",
   "execution_count": null,
   "metadata": {},
   "outputs": [],
   "source": [
    "time_evolved_sic_p2 = povm_map([U], sic) @ sic_phi @ sic_p\n",
    "assert np.allclose(time_evolved_sic_p, time_evolved_sic_p2)"
   ]
  },
  {
   "cell_type": "markdown",
   "metadata": {},
   "source": [
    "Finally, let's check out partial traces:"
   ]
  },
  {
   "cell_type": "code",
   "execution_count": null,
   "metadata": {},
   "outputs": [],
   "source": [
    "entangled = qt.rand_dm(4)\n",
    "entangled.dims = [[2,2],[2,2]]\n",
    "\n",
    "povm2 = weyl_heisenberg_povm(qt.rand_dm(2))\n",
    "povm4 = apply_dims(weyl_heisenberg_povm(qt.rand_dm(4)), [2,2])\n",
    "phi = povm_phi(povm4)\n",
    "p = dm_probs(entangled, povm4)\n",
    "\n",
    "ptrA = povm_map(partial_trace_krauss(0, [2,2]), povm4, povm2)\n",
    "ptrB = povm_map(partial_trace_krauss(1, [2,2]), povm4, povm2)\n",
    "\n",
    "assert np.allclose(dm_probs(entangled.ptrace(0), povm2), ptrA @ phi @ p)\n",
    "assert np.allclose(dm_probs(entangled.ptrace(1), povm2), ptrB @ phi @ p)"
   ]
  },
  {
   "cell_type": "markdown",
   "metadata": {},
   "source": [
    "Check out the tutorial for the full story!\n",
    "\n",
    "Thanks to [nbdev](https://nbdev.fast.ai/)!"
   ]
  }
 ],
 "metadata": {
  "kernelspec": {
   "display_name": "Python 3",
   "language": "python",
   "name": "python3"
  }
 },
 "nbformat": 4,
 "nbformat_minor": 2
}
