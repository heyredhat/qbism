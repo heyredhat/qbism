{
 "cells": [
  {
   "cell_type": "code",
   "execution_count": null,
   "metadata": {},
   "outputs": [
    {
     "name": "stdout",
     "output_type": "stream",
     "text": [
      "The autoreload extension is already loaded. To reload it, use:\n  %reload_ext autoreload\n"
     ]
    }
   ],
   "source": [
    "#hide\n",
    "%load_ext autoreload\n",
    "%autoreload 2"
   ]
  },
  {
   "cell_type": "code",
   "execution_count": null,
   "metadata": {},
   "outputs": [],
   "source": [
    "# default_exp weyl_heisenberg"
   ]
  },
  {
   "cell_type": "markdown",
   "metadata": {},
   "source": [
    "# The Weyl-Heisenberg Group\n"
   ]
  },
  {
   "cell_type": "code",
   "execution_count": null,
   "metadata": {},
   "outputs": [],
   "source": [
    "#export\n",
    "import numpy as np\n",
    "import qutip as qt"
   ]
  },
  {
   "cell_type": "code",
   "execution_count": null,
   "metadata": {},
   "outputs": [],
   "source": [
    "#export\n",
    "def clock(d):\n",
    "    r\"\"\"\n",
    "    The clock operator $\\hat{Z}$ for dimension $d$.\n",
    "    \"\"\"\n",
    "    w = np.exp(2*np.pi*1j/d)\n",
    "    return qt.Qobj(np.diag([w**i for i in range(d)]))"
   ]
  },
  {
   "cell_type": "markdown",
   "metadata": {},
   "source": [
    "$$Z = \n",
    "\\begin{pmatrix}\n",
    "1      & 0      & 0        & \\cdots & 0\\\\\n",
    "0      & \\omega & 0        & \\cdots & 0\\\\\n",
    "0      & 0      & \\omega^2 & \\cdots & 0\\\\\n",
    "\\vdots & \\vdots & \\vdots   & \\ddots & \\vdots\\\\\n",
    "0      & 0      & 0        & \\cdots & \\omega^{d-1}\n",
    "\\end{pmatrix}\n",
    "$$\n",
    "\n",
    "Where $\\omega = e^{\\frac{2\\pi i}{d}}$."
   ]
  },
  {
   "cell_type": "code",
   "execution_count": null,
   "metadata": {},
   "outputs": [],
   "source": [
    "#export \n",
    "def shift(d):\n",
    "    r\"\"\"\n",
    "    The shift operator $\\hat{X}$ for dimension $d$.\n",
    "    \"\"\"\n",
    "    return sum([qt.basis(d, i+1)*qt.basis(d, i).dag()\\\n",
    "                    if i != d-1 else qt.basis(d, 0)*qt.basis(d, i).dag()\\\n",
    "                        for i in range(d) for j in range(d)])/d"
   ]
  },
  {
   "cell_type": "markdown",
   "metadata": {},
   "source": [
    "$$X = \n",
    "\\begin{pmatrix}\n",
    "0      & 0      & 0      & \\cdots & 0     & 1\\\\\n",
    "1      & 0      & 0      & \\cdots & 0     & 0\\\\\n",
    "0      & 1      & 0      & \\cdots & 0     & 0\\\\\n",
    "0      & 0      & 1      & \\cdots & 0     & 0\\\\\n",
    "\\vdots & \\vdots & \\vdots & \\ddots &\\vdots &\\vdots\\\\\n",
    "0      & 0      & 0      & \\cdots & 1     & 0\\\\ \n",
    "\\end{pmatrix}\n",
    "$$\n"
   ]
  },
  {
   "cell_type": "code",
   "execution_count": null,
   "metadata": {},
   "outputs": [],
   "source": [
    "#export \n",
    "def displace(d, a, b):\n",
    "    r\"\"\"\n",
    "    The displacement operator $\\hat{D}_{a,b} = (-e^{\\frac{i\\pi}{d}})^{ab}\\hat{X}^{b}\\hat{Z}^{a}$ for dimension $d$.\n",
    "    \"\"\"\n",
    "    Z, X = clock(d), shift(d)\n",
    "    return (-np.exp(1j*np.pi/d))**(a*b)*X**b*Z**a"
   ]
  },
  {
   "cell_type": "code",
   "execution_count": null,
   "metadata": {},
   "outputs": [],
   "source": [
    "#export\n",
    "def weyl_heisenberg_indices(d):\n",
    "    r\"\"\"\n",
    "    Returns a list with entries $(a, b)$ for $a, b \\in [0, d)$.\n",
    "    \"\"\"\n",
    "    return [(a,b) for b in range(d) for a in range(d)]"
   ]
  },
  {
   "cell_type": "code",
   "execution_count": null,
   "metadata": {},
   "outputs": [],
   "source": [
    "#export\n",
    "def displacement_operators(d):\n",
    "    r\"\"\"\n",
    "    Returns a dictionary associating $(a, b)$ with $\\hat{D}_{a,b}$ for $a, b \\in [0, d)$.\n",
    "    \"\"\"\n",
    "    return dict([((a,b), displace(d, a, b)) for a, b in weyl_heisenberg_indices(d)])"
   ]
  },
  {
   "cell_type": "code",
   "execution_count": null,
   "metadata": {},
   "outputs": [],
   "source": [
    "#export\n",
    "def weyl_heisenberg_states(fiducial):\n",
    "    r\"\"\"\n",
    "    Applies the $d^2$ displacement operators to a fiducial state, which can be either\n",
    "    a ket or a density matrix.\n",
    "    \"\"\"\n",
    "    d = fiducial.shape[0]\n",
    "    D = displacement_operators(d)\n",
    "    return [D[(a,b)]*fiducial if fiducial.type == \"ket\" else\\\n",
    "            D[(a,b)]*fiducial*D[(a,b)].dag()\\\n",
    "                for a, b in weyl_heisenberg_indices(d)]"
   ]
  },
  {
   "cell_type": "code",
   "execution_count": null,
   "metadata": {},
   "outputs": [],
   "source": [
    "#export\n",
    "def weyl_heisenberg_povm(fiducial):\n",
    "    r\"\"\"\n",
    "    Generates a Weyl-Heisenberg POVM by applying the $d^2$ displacement operators to a\n",
    "    fiducial state and then, if the fiducial state is a ket $\\mid \\psi \\rangle$, forming the projector $\\mid \\psi \\rangle \\langle \\psi \\mid$, and normalizing by $\\frac{1}{d}$.\n",
    "    \"\"\"\n",
    "    return [(1/fiducial.shape[0])*(state*state.dag() if state.type=='ket' else state) for state in weyl_heisenberg_states(fiducial)]"
   ]
  },
  {
   "cell_type": "markdown",
   "metadata": {},
   "source": [
    "Let's check that we really get a POVM. Recall that a POVM (a positive operator valued measure) consists in a set of positive semidefinite operators that sum to the identity, i.e., a set $\\{E_{i}\\}$ such that $\\sum_{i} E_{i} = I$. \n",
    "\n",
    "We can form a POVM whose elements are all rank-1:"
   ]
  },
  {
   "cell_type": "code",
   "execution_count": null,
   "metadata": {},
   "outputs": [],
   "source": [
    "d = 3\n",
    "povm_from_state = weyl_heisenberg_povm(qt.rand_ket(d))\n",
    "assert np.allclose(sum(povm_from_state), qt.identity(d))"
   ]
  },
  {
   "cell_type": "markdown",
   "metadata": {},
   "source": [
    "Or not!"
   ]
  },
  {
   "cell_type": "code",
   "execution_count": null,
   "metadata": {},
   "outputs": [],
   "source": [
    "povm_from_dm = weyl_heisenberg_povm(qt.rand_dm(d))\n",
    "assert np.allclose(sum(povm_from_dm), qt.identity(d))"
   ]
  },
  {
   "cell_type": "markdown",
   "metadata": {},
   "source": [
    "The $d^2$ POVM elements form a linearly independent basis for quantum states in a $d$ dimensional Hilbert space. This works because the Weyl-Heisenberg (unitary) displacement operators themselves form an operator basis!"
   ]
  },
  {
   "cell_type": "code",
   "execution_count": null,
   "metadata": {},
   "outputs": [],
   "source": [
    "#export\n",
    "def to_weyl_heisenberg_basis(O, D=None):\n",
    "    r\"\"\"\n",
    "    Expands a $d \\times d$ operator $O$ in the Weyl-Heisenberg basis with components:\n",
    "\n",
    "    $$ O_{a,b} = \\frac{1}{d} tr ( \\hat{D}_{a,b}^{\\dagger} \\hat{O} ) $$\n",
    "\n",
    "    Returns a dictionary associating $(a, b)$ with components.\n",
    "    \"\"\"\n",
    "    d = O.shape[0]\n",
    "    D = D if type(D) != type(None) else displacement_operators(d)\n",
    "    return dict([(index, (D_.dag()*O).tr()/d) for index, D_ in D.items()])"
   ]
  },
  {
   "cell_type": "code",
   "execution_count": null,
   "metadata": {},
   "outputs": [],
   "source": [
    "#export\n",
    "def from_weyl_heisenberg_basis(C, D=None):\n",
    "    r\"\"\"\n",
    "    Given a dictionary of Weyl-Heisenberg components, returns the operator $O$\n",
    "    in the standard basis:\n",
    "\n",
    "    $$\\hat{O} = \\sum_{a,b} O_{a,b}\\hat{D}_{a,b}$$\n",
    "    \"\"\"\n",
    "    d = int(np.sqrt(len(C)))\n",
    "    D = D if type(D) != type(None) else displacement_operators(d)\n",
    "    return sum([coeff*D[index] for index, coeff in C.items()])"
   ]
  },
  {
   "cell_type": "code",
   "execution_count": null,
   "metadata": {},
   "outputs": [],
   "source": [
    "d = 4\n",
    "O = qt.rand_unitary(d)\n",
    "assert np.allclose(O, from_weyl_heisenberg_basis(to_weyl_heisenberg_basis(O)))"
   ]
  }
 ],
 "metadata": {
  "kernelspec": {
   "display_name": "Python 3.8.5 64-bit",
   "metadata": {
    "interpreter": {
     "hash": "52c099a0a3412f0a20a5fdfbf7def4ee7cb37481ebbf10c1a57384a9bde24e72"
    }
   },
   "name": "python3"
  }
 },
 "nbformat": 4,
 "nbformat_minor": 2
}
