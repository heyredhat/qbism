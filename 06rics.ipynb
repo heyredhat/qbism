{
 "cells": [
  {
   "cell_type": "code",
   "execution_count": null,
   "metadata": {},
   "outputs": [],
   "source": [
    "#hide\n",
    "%load_ext autoreload\n",
    "%autoreload 2"
   ]
  },
  {
   "cell_type": "code",
   "execution_count": null,
   "metadata": {},
   "outputs": [],
   "source": [
    "# default_exp rics"
   ]
  },
  {
   "cell_type": "markdown",
   "metadata": {},
   "source": [
    "# RIC's"
   ]
  },
  {
   "cell_type": "code",
   "execution_count": null,
   "metadata": {},
   "outputs": [],
   "source": [
    "#export\n",
    "import numpy as np\n",
    "import qutip as qt\n",
    "from scipy.stats import ortho_group\n",
    "\n",
    "from qbism.povm import *\n",
    "from qbism.random import *\n",
    "from qbism.kraus import *"
   ]
  },
  {
   "cell_type": "markdown",
   "metadata": {},
   "source": [
    "One can also consider POVM's on real valued Hilbert spaces. RIC-POVM's (real informationally complete POVM's) will have $\\frac{d(d+1)}{2}$ elements (unlike the complex case, where they would be $d^2$ elements).\n",
    "\n",
    "SIC-POVM's in real Hilbert spaces correspond to sets of *real* equiangular lines, and unlike in the complex case, they can be proved *not* to exist in certain dimensions.\n",
    "\n",
    "For purposes of testing out RIC's, let's define some useful functions:"
   ]
  },
  {
   "cell_type": "code",
   "execution_count": null,
   "metadata": {},
   "outputs": [],
   "source": [
    "#export\n",
    "def real_rand_ket(d):\n",
    "    r\"\"\"\n",
    "    Generates a random ket in real Hilbert space of dimension $d$.\n",
    "    \"\"\"\n",
    "    return qt.Qobj(np.random.randn(d)).unit()"
   ]
  },
  {
   "cell_type": "code",
   "execution_count": null,
   "metadata": {},
   "outputs": [],
   "source": [
    "#export\n",
    "def real_rand_dm(d):\n",
    "    r\"\"\"\n",
    "    Generates a random density matrix for a real Hilbert space of dimension $d$.\n",
    "    \"\"\"\n",
    "    return qt.Qobj(qt.rand_dm(d).full().real)"
   ]
  },
  {
   "cell_type": "code",
   "execution_count": null,
   "metadata": {},
   "outputs": [],
   "source": [
    "#export\n",
    "def rand_symmetric(d):\n",
    "    r\"\"\"\n",
    "    Generates a random $d \\times d$ symmetric matrix. These matrices correspond to observables in real quantum mechanics, being the real analogue of Hermitian matrices: $\\hat{S} = \\hat{S}^{T}$.\n",
    "    \"\"\"\n",
    "    M = qt.Qobj(np.random.randn(d,d))\n",
    "    return M*M.trans() + M.trans()*M"
   ]
  },
  {
   "cell_type": "code",
   "execution_count": null,
   "metadata": {},
   "outputs": [],
   "source": [
    "#export\n",
    "def rand_orthogonal(d):\n",
    "    r\"\"\"\n",
    "    Generates a random $d \\times d$ orthogonal matrix. These matrices correspond to time evolution in real quantum mechanics, being the real analogue of unitary matrices: $\\hat{S}\\hat{S}^{T} = \\hat{I}$.\n",
    "    \"\"\"\n",
    "    return qt.Qobj(ortho_group.rvs(d))"
   ]
  },
  {
   "cell_type": "markdown",
   "metadata": {},
   "source": [
    "Let's generate a random RIC and check that it behaves like the more usual complex IC-POVM's we're used to. First, let's check that we can go back and forth between density matrices and probabilities:"
   ]
  },
  {
   "cell_type": "code",
   "execution_count": null,
   "metadata": {},
   "outputs": [],
   "source": [
    "d = 3\n",
    "povm = random_haar_povm(d, real=True)\n",
    "phi = povm_phi(povm)\n",
    "rho = real_rand_dm(d)\n",
    "p = dm_probs(rho, povm)\n",
    "assert np.allclose(rho, probs_dm(p, povm))"
   ]
  },
  {
   "cell_type": "markdown",
   "metadata": {},
   "source": [
    "Then let's compare classical and quantum probabilities for some observable represented by a symmetric matrix:"
   ]
  },
  {
   "cell_type": "code",
   "execution_count": null,
   "metadata": {},
   "outputs": [],
   "source": [
    "S = rand_symmetric(d)\n",
    "vn = [v*v.dag() for v in S.eigenstates()[1]]\n",
    "\n",
    "R = conditional_probs(vn, povm)\n",
    "classical_probs = R @ p\n",
    "quantum_probs = R @ phi @ p\n",
    "\n",
    "post_povm_rho = sum([(e*rho).tr()*(e/e.tr()) for e in povm])\n",
    "assert np.allclose(classical_probs, [(v*post_povm_rho).tr() for v in vn])\n",
    "assert np.allclose(quantum_probs, [(v*rho).tr() for v in vn])"
   ]
  },
  {
   "cell_type": "markdown",
   "metadata": {},
   "source": [
    "And finally, let's check out time evolution under an othogonal matrix:"
   ]
  },
  {
   "cell_type": "code",
   "execution_count": null,
   "metadata": {},
   "outputs": [],
   "source": [
    "O = rand_orthogonal(d)\n",
    "assert np.allclose(dm_probs(O*rho*O.trans(), povm), povm_map([O], povm) @ phi @ p)"
   ]
  },
  {
   "cell_type": "markdown",
   "metadata": {},
   "source": [
    "As an example, let's consider the Petersen RIC in $d=4$ based on the [Petersen Graph](https://en.wikipedia.org/wiki/Petersen_graph) and the [Rectified 5-cell](http://eusebeia.dyndns.org/4d/rect5cell).\n"
   ]
  },
  {
   "cell_type": "code",
   "execution_count": null,
   "metadata": {},
   "outputs": [
    {
     "name": "stdout",
     "output_type": "stream",
     "text": [
      "petersen gram:\n [[0.16  0.071 0.004 0.004 0.071 0.071 0.004 0.004 0.004 0.004]\n [0.071 0.16  0.071 0.004 0.004 0.004 0.071 0.004 0.004 0.004]\n [0.004 0.071 0.16  0.071 0.004 0.004 0.004 0.071 0.004 0.004]\n [0.004 0.004 0.071 0.16  0.071 0.004 0.004 0.004 0.071 0.004]\n [0.071 0.004 0.004 0.071 0.16  0.004 0.004 0.004 0.004 0.071]\n [0.071 0.004 0.004 0.004 0.004 0.16  0.004 0.071 0.071 0.004]\n [0.004 0.071 0.004 0.004 0.004 0.004 0.16  0.004 0.071 0.071]\n [0.004 0.004 0.071 0.004 0.004 0.071 0.004 0.16  0.004 0.071]\n [0.004 0.004 0.004 0.071 0.004 0.071 0.071 0.004 0.16  0.004]\n [0.004 0.004 0.004 0.004 0.071 0.004 0.071 0.071 0.004 0.16 ]]\nquantumness: 34.047026\n"
     ]
    }
   ],
   "source": [
    "#export\n",
    "def petersen_povm():\n",
    "    petersen_vertices = [\"u1\", \"u2\", \"u3\", \"u4\", \"u5\", \"v1\", \"v2\", \"v3\", \"v4\", \"v5\"]\n",
    "    petersen_graph = \\\n",
    "        {\"u1\": [\"v1\", \"u2\", \"u5\"],\n",
    "        \"u2\": [\"u1\", \"v2\", \"u3\"],\n",
    "        \"u3\": [\"u2\", \"v3\", \"u4\"],\n",
    "        \"u4\": [\"u3\", \"v4\", \"u5\"],\n",
    "        \"u5\": [\"u4\", \"v5\", \"u1\"],\n",
    "        \"v1\": [\"u1\", \"v4\", \"v3\"],\n",
    "        \"v2\": [\"u2\", \"v4\", \"v5\"],\n",
    "        \"v3\": [\"v5\", \"v1\", \"u3\"],\n",
    "        \"v4\": [\"u4\", \"v1\", \"v2\"],\n",
    "        \"v5\": [\"u5\", \"v3\", \"v2\"]}\n",
    "    petersen_gram = np.array([[1 if a == b else (\\\n",
    "                               -2/3 if b in petersen_graph[a] else \\\n",
    "                               1/6) for b in petersen_vertices]\\\n",
    "                                        for a in petersen_vertices]) \n",
    "    U, D, V = np.linalg.svd(petersen_gram)\n",
    "    petersen_states = [qt.Qobj(state) for state in V[:4].T @ np.sqrt(np.diag(D[:4]))]\n",
    "    return [(2/5)*v*v.dag() for v in petersen_states]\n",
    "\n",
    "petersen = petersen_povm()\n",
    "assert np.allclose(sum(petersen), qt.identity(4))\n",
    "\n",
    "rho = real_rand_dm(4)\n",
    "assert np.allclose(rho, probs_dm(dm_probs(rho, petersen), petersen))\n",
    "print(\"petersen gram:\\n %s\" % np.round(povm_gram(petersen, normalized=False), decimals=3))\n",
    "print(\"quantumness: %f\" % quantumness(petersen))"
   ]
  },
  {
   "cell_type": "markdown",
   "metadata": {},
   "source": [
    "In $d=3$, there's a real SIC based on the icosahedron!"
   ]
  },
  {
   "cell_type": "code",
   "execution_count": null,
   "metadata": {},
   "outputs": [
    {
     "name": "stdout",
     "output_type": "stream",
     "text": [
      "icosahedron gram:\n [[0.25 0.05 0.05 0.05 0.05 0.05]\n [0.05 0.25 0.05 0.05 0.05 0.05]\n [0.05 0.05 0.25 0.05 0.05 0.05]\n [0.05 0.05 0.05 0.25 0.05 0.05]\n [0.05 0.05 0.05 0.05 0.25 0.05]\n [0.05 0.05 0.05 0.05 0.05 0.25]]\nquantumness: 3.354102\n"
     ]
    }
   ],
   "source": [
    "#export \n",
    "def circular_shifts(v):\n",
    "    shifts = [v]\n",
    "    for i in range(len(v)-1):\n",
    "        u = shifts[-1][:]\n",
    "        u.insert(0, u.pop()) \n",
    "        shifts.append(u)\n",
    "    return shifts\n",
    "\n",
    "def icosahedron_vertices():\n",
    "    phi = (1+np.sqrt(5))/2\n",
    "    return [np.array(v) for v in \n",
    "               circular_shifts([0, 1, phi]) + \\\n",
    "               circular_shifts([0, -1, -phi]) + \\\n",
    "               circular_shifts([0, 1, -phi]) + \\\n",
    "               circular_shifts([0, -1, phi])]\n",
    "\n",
    "def icosahedron_povm():\n",
    "    vertices = icosahedron_vertices()\n",
    "    keep = []\n",
    "    for i, a in enumerate(vertices):\n",
    "        for j, b in enumerate(vertices):\n",
    "            if i != j and np.allclose(a, -b) and j not in keep:\n",
    "                keep.append(i)\n",
    "    vertices = [qt.Qobj(e).unit() for i, e in enumerate(vertices) if i in keep]\n",
    "    return [(1/2)*v*v.dag() for v in vertices]\n",
    "\n",
    "icosahedron = icosahedron_povm()\n",
    "assert np.allclose(sum(icosahedron), qt.identity(3))\n",
    "\n",
    "rho = real_rand_dm(3)\n",
    "assert np.allclose(rho, probs_dm(dm_probs(rho, icosahedron), icosahedron))\n",
    "print(\"icosahedron gram:\\n %s\" % np.round(povm_gram(icosahedron, normalized=False), decimals=3))\n",
    "print(\"quantumness: %f\" % quantumness(icosahedron))"
   ]
  }
 ],
 "metadata": {
  "kernelspec": {
   "display_name": "Python 3",
   "language": "python",
   "name": "python3"
  }
 },
 "nbformat": 4,
 "nbformat_minor": 2
}
