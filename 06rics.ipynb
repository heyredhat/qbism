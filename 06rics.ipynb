{
 "cells": [
  {
   "cell_type": "code",
   "execution_count": null,
   "metadata": {},
   "outputs": [],
   "source": [
    "#hide\n",
    "%load_ext autoreload\n",
    "%autoreload 2"
   ]
  },
  {
   "cell_type": "code",
   "execution_count": null,
   "metadata": {},
   "outputs": [],
   "source": [
    "# default_exp rics"
   ]
  },
  {
   "cell_type": "markdown",
   "metadata": {},
   "source": [
    "# RIC's"
   ]
  },
  {
   "cell_type": "code",
   "execution_count": null,
   "metadata": {},
   "outputs": [],
   "source": [
    "#export\n",
    "import numpy as np\n",
    "import qutip as qt\n",
    "from scipy.stats import ortho_group\n",
    "\n",
    "from qbism.povm import *\n",
    "from qbism.random import *\n",
    "from qbism.kraus import *"
   ]
  },
  {
   "cell_type": "markdown",
   "metadata": {},
   "source": [
    "One can also consider POVM's on real valued Hilbert spaces. RIC-POVM's (real informationally complete POVM's) will have $\\frac{d(d+1)}{2}$ elements (unlike the complex case, where they would be $d^2$ elements).\n",
    "\n",
    "SIC-POVM's in real Hilbert spaces correspond to sets of *real* equiangular lines, and unlike in the complex case, they can be proved *not* to exist in certain dimensions.\n",
    "\n",
    "For purposes of testing out RIC's, let's define some useful functions:"
   ]
  },
  {
   "cell_type": "code",
   "execution_count": null,
   "metadata": {},
   "outputs": [],
   "source": [
    "#export\n",
    "def real_rand_ket(d):\n",
    "    r\"\"\"\n",
    "    Generates a random ket in real Hilbert space of dimension $d$.\n",
    "    \"\"\"\n",
    "    return qt.Qobj(np.random.randn(d)).unit()"
   ]
  },
  {
   "cell_type": "code",
   "execution_count": null,
   "metadata": {},
   "outputs": [],
   "source": [
    "#export\n",
    "def real_rand_dm(d):\n",
    "    r\"\"\"\n",
    "    Generates a random density matrix for a real Hilbert space of dimension $d$.\n",
    "    \"\"\"\n",
    "    return qt.Qobj(qt.rand_dm(d).full().real)"
   ]
  },
  {
   "cell_type": "code",
   "execution_count": null,
   "metadata": {},
   "outputs": [],
   "source": [
    "#export\n",
    "def rand_symmetric(d):\n",
    "    r\"\"\"\n",
    "    Generates a random $d \\times d$ symmetric matrix. These matrices correspond to observables in real quantum mechanics, being the real analogue of Hermitian matrices: $\\hat{S} = \\hat{S}^{T}$.\n",
    "    \"\"\"\n",
    "    M = qt.Qobj(np.random.randn(d,d))\n",
    "    return M*M.trans() + M.trans()*M"
   ]
  },
  {
   "cell_type": "code",
   "execution_count": null,
   "metadata": {},
   "outputs": [],
   "source": [
    "#export\n",
    "def rand_orthogonal(d):\n",
    "    r\"\"\"\n",
    "    Generates a random $d \\times d$ orthogonal matrix. These matrices correspond to time evolution in real quantum mechanics, being the real analogue of unitary matrices: $\\hat{S}\\hat{S}^{T} = \\hat{I}$.\n",
    "    \"\"\"\n",
    "    return qt.Qobj(ortho_group.rvs(d))"
   ]
  },
  {
   "cell_type": "markdown",
   "metadata": {},
   "source": [
    "Let's generate a random RIC and check that it behaves like the more usual complex IC-POVM's we're used to. First, let's check that we can go back and forth between density matrices and probabilities:"
   ]
  },
  {
   "cell_type": "code",
   "execution_count": null,
   "metadata": {},
   "outputs": [],
   "source": [
    "d = 3\n",
    "povm = random_haar_povm(d, real=True)\n",
    "phi = povm_phi(povm)\n",
    "rho = real_rand_dm(d)\n",
    "p = dm_probs(rho, povm)\n",
    "assert np.allclose(rho, probs_dm(p, povm))"
   ]
  },
  {
   "cell_type": "markdown",
   "metadata": {},
   "source": [
    "Then let's compare classical and quantum probabilities for some observable represented by a symmetric matrix:"
   ]
  },
  {
   "cell_type": "code",
   "execution_count": null,
   "metadata": {},
   "outputs": [],
   "source": [
    "S = rand_symmetric(d)\n",
    "vn = [v*v.dag() for v in S.eigenstates()[1]]\n",
    "\n",
    "R = conditional_probs(vn, povm)\n",
    "classical_probs = R @ p\n",
    "quantum_probs = R @ phi @ p\n",
    "\n",
    "post_povm_rho = sum([(e*rho).tr()*(e/e.tr()) for e in povm])\n",
    "assert np.allclose(classical_probs, [(v*post_povm_rho).tr() for v in vn])\n",
    "assert np.allclose(quantum_probs, [(v*rho).tr() for v in vn])"
   ]
  },
  {
   "cell_type": "markdown",
   "metadata": {},
   "source": [
    "And finally, let's check out time evolution under an othogonal matrix:"
   ]
  },
  {
   "cell_type": "code",
   "execution_count": null,
   "metadata": {},
   "outputs": [],
   "source": [
    "O = rand_orthogonal(d)\n",
    "assert np.allclose(dm_probs(O*rho*O.trans(), povm), povm_map([O], povm) @ phi @ p)"
   ]
  },
  {
   "cell_type": "markdown",
   "metadata": {},
   "source": [
    "<hr>\n",
    "\n",
    "The following RIC has been conjectured to have minimal quantumness in the $d=4$ real Hilbert space, in which provably there is no SIC."
   ]
  },
  {
   "cell_type": "code",
   "execution_count": null,
   "metadata": {},
   "outputs": [],
   "source": [
    "#export\n",
    "def maxim_states():\n",
    "    r\"\"\"\n",
    "    The 10 real vectors corresponding to the Maxim RIC.\n",
    "    \"\"\"\n",
    "    return [qt.Qobj(np.array(state)) for state in \n",
    "                [[0, 0, 0, 1], \n",
    "                [0, 0, np.sqrt(3)/2, 1/2], \n",
    "                [0, 0, np.sqrt(3)/2, -1/2], \n",
    "                [0, np.sqrt(2/3), -1/np.sqrt(3), 0], \n",
    "                [0, np.sqrt(2/3), 1/(2*np.sqrt(3)), 1/2], \n",
    "                [0, np.sqrt(2/3), 1/(2*np.sqrt(3)), -1/2], \n",
    "                [np.sqrt(5/2)/2, -np.sqrt(3/2)/2, 0, 0], \n",
    "                [np.sqrt(5/2)/2, 1/(2*np.sqrt(6)), -1/np.sqrt(3), 0], \n",
    "                [np.sqrt(5/2)/2, 1/(2*np.sqrt(6)), 1/(2*np.sqrt(3)), 1/2], \n",
    "                [np.sqrt(5/2)/2, 1/(2*np.sqrt(6)), 1/(2*np.sqrt(3)), -1/2]]]"
   ]
  },
  {
   "cell_type": "code",
   "execution_count": null,
   "metadata": {},
   "outputs": [],
   "source": [
    "#export\n",
    "def maxim_povm():\n",
    "    r\"\"\"\n",
    "    The Maxim RIC-POVM.\n",
    "    \"\"\"\n",
    "    return [(2/5)*state*state.dag() for state in maxim_states()]"
   ]
  },
  {
   "cell_type": "code",
   "execution_count": null,
   "metadata": {},
   "outputs": [
    {
     "name": "stdout",
     "output_type": "stream",
     "text": [
      "maxim gram matrix: \n [[0.16 0.04 0.04 0.   0.04 0.04 0.   0.   0.04 0.04]\n [0.04 0.16 0.04 0.04 0.04 0.   0.   0.04 0.04 0.  ]\n [0.04 0.04 0.16 0.04 0.   0.04 0.   0.04 0.   0.04]\n [0.   0.04 0.04 0.16 0.04 0.04 0.04 0.04 0.   0.  ]\n [0.04 0.04 0.   0.04 0.16 0.04 0.04 0.   0.04 0.  ]\n [0.04 0.   0.04 0.04 0.04 0.16 0.04 0.   0.   0.04]\n [0.   0.   0.   0.04 0.04 0.04 0.16 0.04 0.04 0.04]\n [0.   0.04 0.04 0.04 0.   0.   0.04 0.16 0.04 0.04]\n [0.04 0.04 0.   0.   0.04 0.   0.04 0.04 0.16 0.04]\n [0.04 0.   0.04 0.   0.   0.04 0.04 0.04 0.04 0.16]]\nmatrix rank: 10\nquantumness: 9.165151\n"
     ]
    }
   ],
   "source": [
    "maxim = maxim_povm()\n",
    "assert np.allclose(qt.identity(4), sum(maxim))\n",
    "\n",
    "rho = real_rand_dm(4)\n",
    "assert np.allclose(rho, probs_dm(dm_probs(rho, maxim), maxim))\n",
    "\n",
    "G = np.array([[(b*a).tr() for b in maxim] for a in maxim])\n",
    "print(\"maxim gram matrix: \\n %s\" % G)\n",
    "print(\"matrix rank: %d\" % np.linalg.matrix_rank(G))\n",
    "\n",
    "print(\"quantumness: %f\" % quantumness(maxim))"
   ]
  }
 ],
 "metadata": {
  "kernelspec": {
   "display_name": "Python 3",
   "language": "python",
   "name": "python3"
  }
 },
 "nbformat": 4,
 "nbformat_minor": 2
}
