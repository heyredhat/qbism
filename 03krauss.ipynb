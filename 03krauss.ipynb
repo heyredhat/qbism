{
 "cells": [
  {
   "cell_type": "code",
   "execution_count": null,
   "metadata": {},
   "outputs": [],
   "source": [
    "# default_exp krauss"
   ]
  },
  {
   "cell_type": "markdown",
   "metadata": {},
   "source": [
    "# Krauss Operators"
   ]
  },
  {
   "cell_type": "code",
   "execution_count": null,
   "metadata": {},
   "outputs": [],
   "source": [
    "#export\n",
    "import numpy as np\n",
    "import qutip as qt"
   ]
  },
  {
   "cell_type": "code",
   "execution_count": null,
   "metadata": {},
   "outputs": [],
   "source": [
    "#export\n",
    "def apply_krauss(dm, krauss):\n",
    "\tr\"\"\"\n",
    "\tApplies a Krauss map to a density matrix $\\rho$. The Krauss map consists in some number of operators \n",
    "\tsatisfying $\\sum_{i} \\hat{K}_{i}^{\\dagger}\\hat{K}_{i} = \\hat{I}$. $\\rho$ is transformed via:\n",
    "\n",
    "\t$$\\rho \\rightarrow \\sum_{i} \\hat{K}_{i}\\rho\\hat{K}_{i}^{\\dagger} $$ \n",
    "\t\"\"\"\n",
    "\treturn sum([krauss[j]*dm*krauss[j].dag() for j in range(len(krauss))])"
   ]
  },
  {
   "cell_type": "code",
   "execution_count": null,
   "metadata": {},
   "outputs": [],
   "source": [
    "#export\n",
    "def partial_trace_krauss(keep, dims):\n",
    "    r\"\"\"\n",
    "    Constructs the Krauss map corresponding to the partial trace. Takes `keep` which is a single index or list of indices denoting\n",
    "    subsystems to keep, and a list `dims` of dimensions of the overall tensor product Hilbert space. \n",
    "\n",
    "    For illustration, to trace over the $i^{th}$ subsystem of $n$, one would construct Krauss operators:\n",
    "\n",
    "    $$ \\hat{K}_{i} = I^{\\otimes i - 1} \\otimes \\langle i \\mid \\otimes I^{\\otimes n - i}$$.\n",
    "    \"\"\"\n",
    "    if type(keep) == int:\n",
    "        keep = [keep]\n",
    "    trace_over = [i for i in range(len(dims)) if i not in keep]\n",
    "    indices = [{trace_over[0]:t} for t in range(dims[trace_over[0]])]\n",
    "    for i in trace_over[1:]:\n",
    "        new_indices = []\n",
    "        for t in range(dims[i]):\n",
    "            new_indices.extend([{**j, **{i: t}} for j in indices])\n",
    "        indices = new_indices\n",
    "    return [qt.tensor(*[qt.identity(d) if i in keep else qt.basis(d, index[i]).dag() for i, d in enumerate(dims)]) for index in indices]"
   ]
  },
  {
   "cell_type": "code",
   "execution_count": null,
   "metadata": {},
   "outputs": [],
   "source": [
    "#export\n",
    "def povm_map(krauss, A, B=None):\n",
    "    r\"\"\"\n",
    "    Represents a Krauss map on Qbist probability vectors. Takes a list of Krauss operators, a POVM $A$ on the initial Hilbert space,\n",
    "    and a POVM $B$ on the final Hilbert space. If $B$ isn't provided, it's assumed to be the same as $A$. Then the matrix elements of the map are:\n",
    "\n",
    "    $$K_{j, i} = tr( \\mathbb{K}(\\frac{\\hat{A}_{i}}{tr \\hat{A}_{i}})\\hat{B}_{j} ) $$\n",
    "\n",
    "    Where $\\mathbb{K}(\\hat{O})$ denotes the Krauss map applied to $O$.\n",
    "    \"\"\"\n",
    "    B = B if type(B) != type(None) else A\n",
    "    return np.array([[(apply_krauss(a/a.tr(), krauss)*b).tr() for a in A] for b in B]).real"
   ]
  }
 ],
 "metadata": {
  "kernelspec": {
   "display_name": "Python 3",
   "language": "python",
   "name": "python3"
  }
 },
 "nbformat": 4,
 "nbformat_minor": 2
}
