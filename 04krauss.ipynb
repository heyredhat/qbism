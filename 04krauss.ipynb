{
 "cells": [
  {
   "cell_type": "code",
   "execution_count": null,
   "metadata": {},
   "outputs": [],
   "source": [
    "#hide\n",
    "%load_ext autoreload\n",
    "%autoreload 2"
   ]
  },
  {
   "cell_type": "code",
   "execution_count": null,
   "metadata": {},
   "outputs": [],
   "source": [
    "# default_exp krauss"
   ]
  },
  {
   "cell_type": "markdown",
   "metadata": {},
   "source": [
    "# Krauss Operators"
   ]
  },
  {
   "cell_type": "code",
   "execution_count": null,
   "metadata": {},
   "outputs": [],
   "source": [
    "#export\n",
    "import numpy as np\n",
    "import qutip as qt"
   ]
  },
  {
   "cell_type": "code",
   "execution_count": null,
   "metadata": {},
   "outputs": [],
   "source": [
    "#export\n",
    "def apply_krauss(dm, krauss):\n",
    "\tr\"\"\"\n",
    "\tApplies a Krauss map to a density matrix $\\rho$. The Krauss map consists in some number of operators \n",
    "\tsatisfying $\\sum_{i} \\hat{K}_{i}^{\\dagger}\\hat{K}_{i} = \\hat{I}$. $\\rho$ is transformed via:\n",
    "\n",
    "\t$$\\rho \\rightarrow \\sum_{i} \\hat{K}_{i}\\rho\\hat{K}_{i}^{\\dagger} $$ \n",
    "\t\"\"\"\n",
    "\treturn sum([krauss[j]*dm*krauss[j].dag() for j in range(len(krauss))])"
   ]
  },
  {
   "cell_type": "code",
   "execution_count": null,
   "metadata": {},
   "outputs": [],
   "source": [
    "#export\n",
    "def partial_trace_krauss(keep, dims):\n",
    "    r\"\"\"\n",
    "    Constructs the Krauss map corresponding to the partial trace. Takes `keep` which is a single index or list of indices denoting\n",
    "    subsystems to keep, and a list `dims` of dimensions of the overall tensor product Hilbert space. \n",
    "\n",
    "    For illustration, to trace over the $i^{th}$ subsystem of $n$, one would construct Krauss operators:\n",
    "\n",
    "    $$ \\hat{K}_{i} = I^{\\otimes i - 1} \\otimes \\langle i \\mid \\otimes I^{\\otimes n - i}$$.\n",
    "    \"\"\"\n",
    "    if type(keep) == int:\n",
    "        keep = [keep]\n",
    "    trace_over = [i for i in range(len(dims)) if i not in keep]\n",
    "    indices = [{trace_over[0]:t} for t in range(dims[trace_over[0]])]\n",
    "    for i in trace_over[1:]:\n",
    "        new_indices = []\n",
    "        for t in range(dims[i]):\n",
    "            new_indices.extend([{**j, **{i: t}} for j in indices])\n",
    "        indices = new_indices\n",
    "    return [qt.tensor(*[qt.identity(d) if i in keep else qt.basis(d, index[i]).dag() for i, d in enumerate(dims)]) for index in indices]"
   ]
  },
  {
   "cell_type": "markdown",
   "metadata": {},
   "source": [
    "Let's make sure this works as expected:"
   ]
  },
  {
   "cell_type": "code",
   "execution_count": null,
   "metadata": {},
   "outputs": [],
   "source": [
    "state = qt.rand_dm(12)\n",
    "dims = [2,3,2]\n",
    "state.dims = [dims, dims]\n",
    "\n",
    "assert np.allclose(apply_krauss(state, partial_trace_krauss(0, dims)), state.ptrace(0))\n",
    "assert np.allclose(apply_krauss(state, partial_trace_krauss(1, dims)), state.ptrace(1))\n",
    "assert np.allclose(apply_krauss(state, partial_trace_krauss([0,1], dims)), state.ptrace([0,1]))"
   ]
  },
  {
   "cell_type": "code",
   "execution_count": null,
   "metadata": {},
   "outputs": [],
   "source": [
    "#export\n",
    "def povm_map(krauss, A, B=None):\n",
    "    r\"\"\"\n",
    "    Represents a Krauss map on Qbist probability vectors. Takes a list of Krauss operators, a POVM $A$ on the initial Hilbert space,\n",
    "    and a POVM $B$ on the final Hilbert space. If $B$ isn't provided, it's assumed to be the same as $A$. Then the matrix elements of the map are:\n",
    "\n",
    "    $$K_{j, i} = tr( \\mathbb{K}(\\frac{\\hat{A}_{i}}{tr \\hat{A}_{i}})\\hat{B}_{j} ) $$\n",
    "\n",
    "    Where $\\mathbb{K}(\\hat{O})$ denotes the Krauss map applied to $O$.\n",
    "    \"\"\"\n",
    "    B = B if type(B) != type(None) else A\n",
    "    return np.array([[(apply_krauss(a/a.tr(), krauss)*b).tr() for a in A] for b in B]).real"
   ]
  },
  {
   "cell_type": "markdown",
   "metadata": {},
   "source": [
    "For example, let's examine the partial trace."
   ]
  },
  {
   "cell_type": "code",
   "execution_count": null,
   "metadata": {},
   "outputs": [],
   "source": [
    "from qbism.povm import *\n",
    "from qbism.sics import *\n",
    "from qbism.weyl_heisenberg import *\n",
    "\n",
    "entangled = qt.rand_dm(4)\n",
    "entangled.dims = [[2,2],[2,2]]\n",
    "\n",
    "povm2 = sic_povm(2)\n",
    "tpovm = tensor_povm(povm2, povm2)\n",
    "tphi = povm_phi(tpovm)\n",
    "tp = dm_probs(entangled, tpovm)\n",
    "\n",
    "ptrA = povm_map(partial_trace_krauss(0, [2,2]), tpovm, povm2)\n",
    "ptrB = povm_map(partial_trace_krauss(1, [2,2]), tpovm, povm2)\n",
    "\n",
    "assert np.allclose(dm_probs(entangled.ptrace(0), povm2), ptrA @ tphi @ tp)\n",
    "assert np.allclose(dm_probs(entangled.ptrace(1), povm2), ptrB @ tphi @ tp)"
   ]
  },
  {
   "cell_type": "markdown",
   "metadata": {},
   "source": [
    "Above we use a tensor product POVM, consisting of the same POVM on each qubit. This has the nice property:"
   ]
  },
  {
   "cell_type": "code",
   "execution_count": null,
   "metadata": {},
   "outputs": [],
   "source": [
    "W = tp.reshape(4,4)\n",
    "assert np.allclose(np.sum(W, axis=1), dm_probs(entangled.ptrace(0), povm2))\n",
    "assert np.allclose(np.sum(W, axis=0), dm_probs(entangled.ptrace(1), povm2))"
   ]
  },
  {
   "cell_type": "markdown",
   "metadata": {},
   "source": [
    "Indeed:"
   ]
  },
  {
   "cell_type": "code",
   "execution_count": null,
   "metadata": {},
   "outputs": [],
   "source": [
    "povm2 = sic_povm(2)\n",
    "tpovm = tensor_povm(povm2, povm2)\n",
    "\n",
    "A, B = qt.rand_dm(2), qt.rand_dm(2)\n",
    "AB = qt.tensor(A, B)\n",
    "\n",
    "assert np.allclose(np.kron(dm_probs(A, povm2), dm_probs(B, povm2)), dm_probs(AB, tpovm))"
   ]
  },
  {
   "cell_type": "markdown",
   "metadata": {},
   "source": [
    "A more elaborate example:"
   ]
  },
  {
   "cell_type": "code",
   "execution_count": null,
   "metadata": {},
   "outputs": [],
   "source": [
    "state = qt.rand_dm(12)\n",
    "state.dims = [[2,3,2],[2,3,2]]\n",
    "\n",
    "povm3 = weyl_heisenberg_povm(qt.rand_dm(3))\n",
    "povm6 = apply_dims(weyl_heisenberg_povm(qt.rand_dm(6)), [2,3])\n",
    "povm12 = apply_dims(weyl_heisenberg_povm(qt.rand_dm(12)), [2,3,2])\n",
    "phi = povm_phi(povm12)\n",
    "p = dm_probs(state, povm12)\n",
    "\n",
    "ptr0 = povm_map(partial_trace_krauss(0, [2,3,2]), povm12, povm2)\n",
    "ptr1 = povm_map(partial_trace_krauss(1, [2,3,2]), povm12, povm3)\n",
    "ptr01 = povm_map(partial_trace_krauss([0,1], [2,3,2]), povm12, povm6)\n",
    "\n",
    "assert np.allclose(dm_probs(state.ptrace(0), povm2), ptr0 @ phi @ p)\n",
    "assert np.allclose(dm_probs(state.ptrace(1), povm3), ptr1 @ phi @ p)\n",
    "assert np.allclose(dm_probs(state.ptrace([0,1]), povm6), ptr01 @ phi @ p)\n"
   ]
  },
  {
   "cell_type": "markdown",
   "metadata": {},
   "source": [
    "Compositionality:"
   ]
  },
  {
   "cell_type": "code",
   "execution_count": null,
   "metadata": {},
   "outputs": [],
   "source": [
    "d = 2\n",
    "U = qt.rand_unitary(d)\n",
    "U2 = qt.tensor(U, U)\n",
    "\n",
    "povm = sic_povm(d)\n",
    "tpovm = tensor_povm(povm, povm)\n",
    "tphi = povm_phi(tpovm)\n",
    "\n",
    "rho = qt.rand_dm(d**2)\n",
    "rho.dims = [[d,d],[d,d]]\n",
    "p = dm_probs(rho, tpovm)\n",
    "\n",
    "assert np.allclose(dm_probs(U2*rho*U2.dag(), tpovm), povm_map([U2], tpovm, tpovm) @ tphi @ p)\n",
    "assert np.allclose(dm_probs(U2*rho*U2.dag(), tpovm), np.kron(povm_map([U], povm, povm), povm_map([U], povm, povm)) @ tphi @ p)"
   ]
  }
 ],
 "metadata": {
  "kernelspec": {
   "display_name": "Python 3",
   "language": "python",
   "name": "python3"
  }
 },
 "nbformat": 4,
 "nbformat_minor": 2
}
