{
 "cells": [
  {
   "cell_type": "code",
   "execution_count": null,
   "metadata": {},
   "outputs": [],
   "source": [
    "# default_exp sics"
   ]
  },
  {
   "cell_type": "markdown",
   "metadata": {},
   "source": [
    "# SIC-POVM's"
   ]
  },
  {
   "cell_type": "code",
   "execution_count": null,
   "metadata": {},
   "outputs": [],
   "source": [
    "#hide\n",
    "import numpy as np\n",
    "import qutip as qt\n",
    "from itertools import product\n",
    "import pkg_resources\n",
    "\n",
    "from qbism.weyl_heisenberg import *"
   ]
  },
  {
   "cell_type": "code",
   "execution_count": null,
   "metadata": {},
   "outputs": [],
   "source": [
    "#export \n",
    "def load_fiducial(d):\n",
    "    \"\"\"\n",
    "    http://www.physics.umb.edu/Research/QBism/solutions.html\n",
    "    \"\"\"\n",
    "    f = pkg_resources.resource_stream(__name__, \"sic_povms/d%d.txt\" % d)\n",
    "    fiducial = []\n",
    "    for line in f:\n",
    "        if line.strip() != \"\":\n",
    "            re, im = [float(v) for v in line.split()]\n",
    "            fiducial.append(re + 1j*im)\n",
    "    return qt.Qobj(np.array(fiducial)).unit()"
   ]
  },
  {
   "cell_type": "code",
   "execution_count": null,
   "metadata": {},
   "outputs": [],
   "source": [
    "#export\n",
    "def sic_states(d):\n",
    "    return weyl_heisenberg_states(load_fiducial(d))"
   ]
  },
  {
   "cell_type": "code",
   "execution_count": null,
   "metadata": {},
   "outputs": [],
   "source": [
    "#export \n",
    "def sic_gram(d):\n",
    "    return np.array([[1 if i == j else 1/(d+1) for j in range(d**2)] for i in range(d**2)])"
   ]
  },
  {
   "cell_type": "code",
   "execution_count": null,
   "metadata": {},
   "outputs": [],
   "source": [
    "#export\n",
    "def hoggar_fiducial():\n",
    "    fiducial = qt.Qobj(np.array([-1 + 2j, 1, 1, 1, 1, 1, 1, 1])).unit()\n",
    "    fiducial.dims = [[2,2,2],[1,1,1]]\n",
    "    return fiducial"
   ]
  },
  {
   "cell_type": "code",
   "execution_count": null,
   "metadata": {},
   "outputs": [],
   "source": [
    "#export\n",
    "def hoggar_indices():\n",
    "    return list(product([0,1], repeat=6))"
   ]
  },
  {
   "cell_type": "code",
   "execution_count": null,
   "metadata": {},
   "outputs": [],
   "source": [
    "#export\n",
    "def hoggar_povm():\n",
    "    Z, X = clock(2), shift(2)\n",
    "    indices = hoggar_indices()\n",
    "    D = dict([(I, qt.tensor(X**I[0]*Z**I[1],\\\n",
    "                            X**I[2]*Z**I[3],\\\n",
    "                            X**I[4]*Z**I[5])) for I in indices])\n",
    "    fiducial = hoggar_fiducial()\n",
    "    hoggar_states = [D[I]*fiducial for I in indices]\n",
    "    return [(1/8)*state*state.dag() for state in hoggar_states]"
   ]
  }
 ],
 "metadata": {
  "kernelspec": {
   "display_name": "Python 3.8.5 64-bit ('spheres': conda)",
   "metadata": {
    "interpreter": {
     "hash": "52c099a0a3412f0a20a5fdfbf7def4ee7cb37481ebbf10c1a57384a9bde24e72"
    }
   },
   "name": "python3"
  }
 },
 "nbformat": 4,
 "nbformat_minor": 2
}
