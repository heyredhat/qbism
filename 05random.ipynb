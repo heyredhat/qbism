{
 "cells": [
  {
   "cell_type": "code",
   "execution_count": null,
   "metadata": {},
   "outputs": [],
   "source": [
    "#hide\n",
    "%load_ext autoreload\n",
    "%autoreload 2"
   ]
  },
  {
   "cell_type": "code",
   "execution_count": null,
   "metadata": {},
   "outputs": [],
   "source": [
    "# default_exp random"
   ]
  },
  {
   "cell_type": "markdown",
   "metadata": {},
   "source": [
    "# Random POVM's"
   ]
  },
  {
   "cell_type": "code",
   "execution_count": null,
   "metadata": {},
   "outputs": [],
   "source": [
    "#export\n",
    "import numpy as np\n",
    "import qutip as qt\n",
    "import scipy as sc\n",
    "\n",
    "from qbism.povm import *"
   ]
  },
  {
   "cell_type": "markdown",
   "metadata": {},
   "source": [
    "Here we follow the work of Heinosaari, Jivulescu, and Nechita as explained in this [paper](https://arxiv.org/abs/1902.04751v1) and in this [blog post](https://ion.nechita.net/2019/02/14/random-quantum-measurements/).\n",
    "\n",
    "We want to generate a Haar randomly distributed POVM parameterized by $d$, the dimensionality of the Hilbert space, $k$, the number of outcomes, and $n$, the \"environment parameter,\" which controls the mixedness of the POVM effects.\n",
    "\n",
    "We begin by generating $k$ $d \\times n$ \"Ginibre matrices,\" which have \"independent, identically distributed complex Gaussian entries\" with variance $\\frac{1}{2}$. "
   ]
  },
  {
   "cell_type": "code",
   "execution_count": null,
   "metadata": {},
   "outputs": [],
   "source": [
    "#export\n",
    "def random_ginibre(n, m, real=False):\n",
    "\treturn (np.random.randn(n, m) + 1j*np.random.randn(n,m))/np.sqrt(2) if not real else np.random.randn(n, m)/np.sqrt(2)"
   ]
  },
  {
   "cell_type": "markdown",
   "metadata": {},
   "source": [
    "From these matrices $G$, we can form \"Wishart\" matrices: $W = GG^{\\dagger}$. These will be random positive semidefinite matrices \"of typical rank $min(d,n)$\". \n",
    "\n",
    "So we have $k$ Wishart matrices: $W_{i}$. In order to get a POVM, we need to \"divide\" each $W_{i}$ by their sum:\n",
    "\n",
    "$$A_{i} = S^{-\\frac{1}{2}}W_{i}S^{-\\frac{1}{2}}$$\n",
    "\n",
    "Where $S = \\sum_{j} W_{j}$.\n",
    "\n",
    "Notice that to divide by the matrix sum, we multiply from the left and the right by the half-inverse of $S$. \n",
    "\n",
    "Finally, we also use the same algorithm to generate real-valued POVM's."
   ]
  },
  {
   "cell_type": "code",
   "execution_count": null,
   "metadata": {},
   "outputs": [],
   "source": [
    "#export\n",
    "def random_haar_povm(d, k=None, n=1, real=False):\n",
    "    r\"\"\"\n",
    "    Generates a Haar distributed random POVM for a Hilbert space of dimension $d$, with $k$ elements, and with \"mixedness\" $n$.\n",
    "\n",
    "    $n$ must satisfy $d \\leq kn$, and defaults to $n=1$, giving rank-1 POVM elements.\n",
    "\n",
    "    $k$ defaults to $d^2$ if complex, $\\frac{d(d+1)}{2}$ if real.\n",
    "    \"\"\"\n",
    "    k = k if type(k) != type(None) else (d**2 if not real else int(d*(d+1)/2))\n",
    "    povm = np.zeros((k, d, d), dtype=np.complex128) if not real else np.zeros((k, d, d))\n",
    "    S = np.zeros(d, dtype=np.complex128) if not real else np.zeros(d)\n",
    "    for i in range(k):\n",
    "        Xi = random_ginibre(d, n, real=real)\n",
    "        Wi = Xi @ Xi.conjugate().T\n",
    "        povm[i, :, :] = Wi\n",
    "        S = S + Wi\n",
    "    S = sc.linalg.fractional_matrix_power(S, -1/2)\n",
    "    for i in range(k):\n",
    "        Wi = np.squeeze(povm[i, :, :])\n",
    "        povm[i, :, :] = S @ Wi @ S\n",
    "    return [qt.Qobj(e) for e in povm]"
   ]
  },
  {
   "cell_type": "markdown",
   "metadata": {},
   "source": [
    "Let's test it out:\n"
   ]
  },
  {
   "cell_type": "code",
   "execution_count": null,
   "metadata": {},
   "outputs": [],
   "source": [
    "d = 3\n",
    "rho = qt.rand_dm(d)\n",
    "povm = random_haar_povm(d)\n",
    "assert np.allclose(qt.identity(d), sum(povm))\n",
    "assert np.allclose(rho, probs_dm(dm_probs(rho, povm), povm))"
   ]
  },
  {
   "cell_type": "markdown",
   "metadata": {},
   "source": [
    "We can also generate randomly distributed POVM elements themselves:"
   ]
  },
  {
   "cell_type": "code",
   "execution_count": null,
   "metadata": {},
   "outputs": [],
   "source": [
    "#export\n",
    "def random_haar_effect(d, k=None, n=1, real=False):\n",
    "    r\"\"\"\n",
    "    Generates a Haar distributed random POVM effect of Hilbert space dimension $d$, as if it were part of a POVM of $k$ elements, with mixedness $n$. \n",
    "    \"\"\"\n",
    "    k = k if type(k) != type(None) else (d**2 if not real else int(d*(d+1)/2))\n",
    "    X = random_ginibre(d, n, real=real)\n",
    "    W = X @ X.conjugate().T\n",
    "    Y = random_ginibre(d, (k-1)*n, real=real)\n",
    "    S = W + Y @ Y.conjugate().T\n",
    "    S = sc.linalg.fractional_matrix_power(S, -1/2)\n",
    "    return qt.Qobj(S @ W @ S.conjugate().T)"
   ]
  }
 ],
 "metadata": {
  "kernelspec": {
   "display_name": "Python 3",
   "language": "python",
   "name": "python3"
  }
 },
 "nbformat": 4,
 "nbformat_minor": 2
}
