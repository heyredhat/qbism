{
 "cells": [
  {
   "cell_type": "code",
   "execution_count": null,
   "metadata": {},
   "outputs": [],
   "source": [
    "# default_exp krauss"
   ]
  },
  {
   "cell_type": "markdown",
   "metadata": {},
   "source": [
    "# Krauss Operators"
   ]
  },
  {
   "cell_type": "code",
   "execution_count": null,
   "metadata": {},
   "outputs": [],
   "source": [
    "#hide\n",
    "import numpy as np\n",
    "import qutip as qt"
   ]
  },
  {
   "cell_type": "code",
   "execution_count": null,
   "metadata": {},
   "outputs": [],
   "source": [
    "#export\n",
    "def apply_krauss(dm, krauss):\n",
    "\treturn sum([krauss[j]*dm*krauss[j].dag() for j in range(len(krauss))])"
   ]
  },
  {
   "cell_type": "code",
   "execution_count": null,
   "metadata": {},
   "outputs": [],
   "source": [
    "#export\n",
    "def partial_trace_krauss(keep, dims):\n",
    "    if type(keep) == int:\n",
    "        keep = [keep]\n",
    "    trace_over = [i for i in range(len(dims)) if i not in keep]\n",
    "    indices = [{trace_over[0]:t} for t in range(dims[trace_over[0]])]\n",
    "    for i in trace_over[1:]:\n",
    "        new_indices = []\n",
    "        for t in range(dims[i]):\n",
    "            new_indices.extend([{**j, **{i: t}} for j in indices])\n",
    "        indices = new_indices\n",
    "    return [qt.tensor(*[qt.identity(d) if i in keep else qt.basis(d, index[i]).dag() for i, d in enumerate(dims)]) for index in indices]"
   ]
  }
 ],
 "metadata": {},
 "nbformat": 4,
 "nbformat_minor": 2
}
