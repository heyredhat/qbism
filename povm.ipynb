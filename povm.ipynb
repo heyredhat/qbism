{
 "cells": [
  {
   "cell_type": "code",
   "execution_count": null,
   "metadata": {},
   "outputs": [],
   "source": [
    "# default_exp povm"
   ]
  },
  {
   "cell_type": "markdown",
   "metadata": {},
   "source": [
    "# POVM's"
   ]
  },
  {
   "cell_type": "code",
   "execution_count": null,
   "metadata": {},
   "outputs": [],
   "source": [
    "#hide\n",
    "import numpy as np\n",
    "import qutip as qt\n",
    "\n",
    "from qbism.sics import *\n",
    "from qbism.utils import *"
   ]
  },
  {
   "cell_type": "code",
   "execution_count": null,
   "metadata": {},
   "outputs": [],
   "source": [
    "#export\n",
    "def weyl_heisenberg_povm(fiducial):\n",
    "    return [(1/fiducial.shape[0])*state*state.dag() for state in weyl_heisenberg_states(fiducial)]"
   ]
  },
  {
   "cell_type": "code",
   "execution_count": null,
   "metadata": {},
   "outputs": [],
   "source": [
    "#export\n",
    "def sic_povm(d):\n",
    "    return [(1/d)*state*state.dag() for state in sic_states(d)]"
   ]
  },
  {
   "cell_type": "code",
   "execution_count": null,
   "metadata": {},
   "outputs": [],
   "source": [
    "#export\n",
    "def povm_phi(E):\n",
    "    phi_inv = np.array([[(a*b/b.tr()).tr() for b in E] for a in E]).real\n",
    "    return np.linalg.inv(phi_inv)"
   ]
  },
  {
   "cell_type": "code",
   "execution_count": null,
   "metadata": {},
   "outputs": [],
   "source": [
    "#export\n",
    "def povm_gram(E):\n",
    "    return np.array([[((a/a.tr())*(b/b.tr())).tr() for b in E] for a in E]).real"
   ]
  },
  {
   "cell_type": "code",
   "execution_count": null,
   "metadata": {},
   "outputs": [],
   "source": [
    "#export\n",
    "def dm_probs(rho, E):\n",
    "    return np.array([(e*rho).tr() for e in E]).real"
   ]
  },
  {
   "cell_type": "code",
   "execution_count": null,
   "metadata": {},
   "outputs": [],
   "source": [
    "#export\n",
    "def probs_dm(p, E, phi=None):\n",
    "    phi = phi if type(phi) != type(None) else povm_phi(E)\n",
    "    return sum([c*E[i]/E[i].tr() for i, c in enumerate(phi @ p)])"
   ]
  },
  {
   "cell_type": "code",
   "execution_count": null,
   "metadata": {},
   "outputs": [],
   "source": [
    "#export \n",
    "def conditional_probs(A, B):\n",
    "    return np.array([[((B[i]/B[i].tr())*A[j]).tr() for i in range(len(B))] for j in range(len(A))]).real"
   ]
  },
  {
   "cell_type": "code",
   "execution_count": null,
   "metadata": {},
   "outputs": [],
   "source": [
    "#export \n",
    "def tensor_povm(A, B):\n",
    "    return [qt.tensor(a, b) for b in B for a in A]"
   ]
  },
  {
   "cell_type": "code",
   "execution_count": null,
   "metadata": {},
   "outputs": [],
   "source": [
    "#export\n",
    "def upgrade_povm(E, i, dims):\n",
    "    if type(dims) == int:\n",
    "        dims = [E[0].shape[0]]*dims\n",
    "    return [qt.tensor(*[e if i == j else qt.identity(d)\\\n",
    "                            for j, d in enumerate(dims)]) for e in E]"
   ]
  },
  {
   "cell_type": "code",
   "execution_count": null,
   "metadata": {},
   "outputs": [],
   "source": [
    "#export\n",
    "def apply_dims(E, dims):\n",
    "    for e in E:\n",
    "        e.dims = [dims, dims]\n",
    "    return E"
   ]
  },
  {
   "cell_type": "code",
   "execution_count": null,
   "metadata": {},
   "outputs": [],
   "source": [
    "#export\n",
    "def povm_map(krauss, A, B=None):\n",
    "    B = B if B else A\n",
    "    return np.array([[(apply_krauss(a/a.tr(), krauss)*b).tr() for a in A] for b in B]).real"
   ]
  },
  {
   "cell_type": "code",
   "execution_count": null,
   "metadata": {},
   "outputs": [],
   "source": [
    "#export\n",
    "def implement_povm(E):\n",
    "    n, d = len(E), E[0].shape[0]\n",
    "    aux_projectors = [qt.tensor(qt.identity(d), qt.basis(n, i)*qt.basis(n, i).dag()) for i in range(n)]\n",
    "    V = sum([qt.tensor(E[i].sqrtm(), qt.basis(n, i)) for i in range(n)])\n",
    "    povm_elements = [V.dag()*aux_projectors[i]*V for i in range(n)]\n",
    "    assert np.all([np.allclose(E[i], povm_elements[i]) for i in range(n)])\n",
    "    Q, R = np.linalg.qr(V, mode=\"complete\")\n",
    "    for i in range(d):\n",
    "        Q.T[[i,n*i]] = Q.T[[n*i,i]]\n",
    "    U = qt.Qobj(-Q)\n",
    "    U.dims = [[d, n],[d, n]]\n",
    "    assert np.allclose(V, U*qt.tensor(qt.identity(d), qt.basis(n, 0)))\n",
    "    return U"
   ]
  }
 ],
 "metadata": {},
 "nbformat": 4,
 "nbformat_minor": 2
}
